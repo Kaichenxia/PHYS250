{
 "cells": [
  {
   "cell_type": "markdown",
   "metadata": {
    "deletable": true,
    "editable": true
   },
   "source": [
    "# The Runge-Kutta Method, Higher-Order ODEs and Multistep Methods\n",
    "\n",
    "Let's follow-up the discussion of the Euler Method by moving to a higher order in the expansion. THe name of this algorithm, as we discussed in [Lecture 10](https://github.com/UChicagoPhysics/PHYS250/tree/master/Slides/Lecture10), this is the classical Runge-Kutta method. With these examples, we will go beyond first-order ODEs, and take a first look at multistep methods."
   ]
  },
  {
   "cell_type": "code",
   "execution_count": 1,
   "metadata": {
    "collapsed": false,
    "deletable": true,
    "editable": true
   },
   "outputs": [
    {
     "name": "stderr",
     "output_type": "stream",
     "text": [
      "/usr/local/lib/python2.7/site-packages/matplotlib/matplotlib/font_manager.py:1435: MatplotlibDeprecationWarning: matplotlib.verbose is deprecated;\n",
      "Command line argument --verbose-LEVEL is deprecated.\n",
      "This functionality is now provided by the standard\n",
      "python logging library.  To get more (or less) logging output:\n",
      "    import logging\n",
      "    logger = logging.getLogger('matplotlib')\n",
      "    logger.set_level(logging.INFO)\n",
      "/usr/local/lib/python2.7/site-packages/matplotlib/__init__.py:356: MatplotlibDeprecationWarning: matplotlib.verbose is deprecated;\n",
      "Command line argument --verbose-LEVEL is deprecated.\n",
      "This functionality is now provided by the standard\n",
      "python logging library.  To get more (or less) logging output:\n",
      "    import logging\n",
      "    logger = logging.getLogger('matplotlib')\n",
      "    logger.set_level(logging.INFO)\n",
      "  if self.ge(level):\n"
     ]
    }
   ],
   "source": [
    "import numpy as np\n",
    "import matplotlib.pyplot as plt\n",
    "%matplotlib inline"
   ]
  },
  {
   "cell_type": "markdown",
   "metadata": {
    "deletable": true,
    "editable": true
   },
   "source": [
    "## Introduction\n",
    "\n",
    "In the previous example, we looked at the Explicit Euler method (aka the First Order Runge-Kutta Method), and checked that it had a global order of accuracy $\\mathcal{O}(h^1)$. Now we'll again take an ODE $y' = f(x,y)$ with an initial condition $y(x_0) = y_0$ and look at more advanced numerical methods for solving the problem."
   ]
  },
  {
   "cell_type": "markdown",
   "metadata": {
    "deletable": true,
    "editable": true
   },
   "source": [
    "## The Runge-Kutta Method\n",
    "\n",
    "For the Explicit Euler method we truncated the Taylor expansion after the linear term. It's clear that including more terms before truncation will give us a higher-order (i.e. *better*) approximation! \n",
    "\n",
    "### Runge-Kutta Method in more detail\n",
    "\n",
    "As we discussed in Lecture, the genius of the Runge-Kutta method is to realize that was using two estimates of the slope (i.e., Second Order Runge Kutta; using slopes at the beginning and midpoint of the time step, or using the slopes at the beginninng and end of the time step) gives an approximation with greater accuracy than using just a single slope (i.e., First Order Runge Kutta; using only the slope at the beginning of the interval). \n",
    "\n",
    "It seems reasonable, then, to assume that using even more estimates of the slope would result in even more accuracy. It turns out this is true, and leads to higher-order Runge-Kutta methods. Third order methods can be developed (but are not discussed here). Instead we will restrict ourselves to the much more commonly used Fourth Order Runge-Kutta technique, which uses four approximations to the slope. It is important to understand these lower order methods before starting on the fourth order method.\n",
    "\n",
    "### Second Order Runge-Kutta Method\n",
    "\n",
    "Extrapolating from the First Order method (i.e. the Explicit Euler Method), it's clear that we need the Taylor Series terms:\n",
    "\n",
    "$$\n",
    "\\begin{align}\n",
    "f(x+h) &= f(x) + hf^{\\prime}(x) + \\frac{h^2}{2!}f^{\\prime\\prime}(x) + \\frac{h^3}{3!}f^{\\prime\\prime\\prime}(x)+\\frac{h^4}{4!}f^{\\prime\\prime\\prime\\prime}(x) + \\cdots \\\\\n",
    "f(x-h) &= f(x) - hf^{\\prime}(x) + \\frac{h^2}{2!}f^{\\prime\\prime}(x) - \\frac{h^3}{3!}f^{\\prime\\prime\\prime}(x)+\\frac{h^4}{4!}f^{\\prime\\prime\\prime\\prime}(x) + \\cdots \\\\\n",
    "\\end{align}\n",
    "$$\n",
    "\n",
    "\n",
    "If we put the these together, we get the *finite central sum and difference* approximations:\n",
    "\n",
    "$$\n",
    "\\begin{align}\n",
    "f(x+h) + f(x-h)   &= 2f(x) + h^2f^{\\prime\\prime}(x) + \\frac{h^4}{12}f^{\\prime\\prime\\prime\\prime}(x) + \\cdots \\\\\n",
    "f(x+h) - f(x-h)   &= 2hf^{\\prime}(x) + \\frac{h^3}{3}f^{\\prime\\prime\\prime}(x) +  \\cdots \\\\\n",
    "\\end{align}\n",
    "$$\n",
    "\n",
    "In the case of the finite central difference approximation, the *global error* on the approximation to $f^{\\prime}(x)$ is given as:\n",
    "\n",
    "$$\n",
    "f^{\\prime}(x) - \\frac{f(x+h) - f(x-h)}{2h} = -\\frac{h^2}{6}f^{\\prime\\prime\\prime}(x) +  \\cdots\n",
    "$$\n",
    "\n",
    "This represents an accuracy of $\\mathcal{O}(h^2)$, which is an order of magnitude better than Explicit Euler!\n",
    "\n",
    "If we now go back to our finite difference *step* from the Euler Method discussion, and expand about the *midpoint* of the integration interval (that is, make use of the improved precision of the finite *central* difference approximation to $f$) then we have:\n",
    "\n",
    "$$\n",
    "y_{n+1} \\approx y_n + hf(x_{n+1/2}, y_{n+1/2})  + \\mathcal{O}(h^2)\n",
    "$$\n",
    "\n",
    "and so our sequence of approximation points $y_n$ is calculated as\n",
    "\n",
    "$$\n",
    "y_{n+1} \\simeq y_n + hf(x_{n+1/2}, y_{n+1/2}).\n",
    "$$\n",
    "\n",
    "The price for improved precision is having to evaluate the derivative function and $y$ at the middle of the interval, $x_{n+1/2} = x_n + h/2$. And there's the rub: we don't know the value of $y_{n+1/2}$ and cannot use this algorithm to determine it.\n",
    "  \n",
    "The way out of this issue is to use Euler's algorithm for $y_{n+1/2}$:\n",
    "\n",
    "$$\n",
    "y(x + h/2) = y_n + \\frac{1}{2}hy^{\\prime} = y_n + \\frac{1}{2}hf(x_n,y_n)\n",
    "$$\n",
    "\n",
    "In this way, the known derivative function $f$ is evaluated at the ends and the midpoint of the interval, but that only the (known) initial value of the dependent variable $y$ is required. This makes the algorithm self-starting.\n",
    "\n",
    "$$\n",
    "y_{n+1} \\simeq y_n + k_2 \n",
    "$$\n",
    "\n",
    "where\n",
    "\n",
    "$$\n",
    "\\begin{align}\n",
    "k_1 &= hf(x_n, y_n), \\\\\n",
    "k_2 &= hf(x_n + \\frac{h}{2}, y_{n} + \\frac{k_1}{2})\n",
    "\\end{align}\n",
    "$$\n"
   ]
  },
  {
   "cell_type": "markdown",
   "metadata": {},
   "source": [
    "### Implementing the RK2 Method in Python\n",
    "\n",
    "Just like we did with the Explicit Euler method, we'll define a function to implement the SEcond Order Runge-Kutta method for a first-order ODE system."
   ]
  },
  {
   "cell_type": "code",
   "execution_count": 2,
   "metadata": {
    "collapsed": true
   },
   "outputs": [],
   "source": [
    "def RungeKutta2(func, y_0, x, args={}):\n",
    "    \"\"\" Second Order Runge-Kutta (RK2) approximation to a first-order ODE system\n",
    "    with initial conditions.\n",
    "\n",
    "    Args:\n",
    "        func: (callable) The first-order ODE system to be approximated.\n",
    "        y_0:  (array)    The initial condition.\n",
    "        t:    (array)    A sequence of time points for which to solve for y.\n",
    "        args: (dict)     Extra arguments to pass to function.\n",
    "\n",
    "    Out:\n",
    "        y:    (array)    The approximated solution of the system at each time in t,\n",
    "                         with the initial value y_0 in the first row.\n",
    "    \"\"\"\n",
    "\n",
    "    # Initialise the approximation array\n",
    "    y = np.zeros([len(x), len(y_0)])\n",
    "    y[0] = y_0\n",
    "\n",
    "    # Loop through the time steps, approximating this step from the prev step\n",
    "    for i, x_i in enumerate(x[:-1]):\n",
    "\n",
    "        h = x[i+1] - x_i # size of the step\n",
    "\n",
    "        k_1 = h*func(x_i, y[i], args)\n",
    "        k_2 = h*func(x_i + h/2. , y[i] + k_1/2., args)\n",
    "\n",
    "        y[i+1] = y[i] + k_2 # RK2 step\n",
    "\n",
    "    return y"
   ]
  },
  {
   "cell_type": "markdown",
   "metadata": {},
   "source": [
    "### Test function: Exponential\n",
    "\n",
    "We'll define our test function `exp` just as we did in Part 1."
   ]
  },
  {
   "cell_type": "code",
   "execution_count": 3,
   "metadata": {
    "collapsed": true
   },
   "outputs": [],
   "source": [
    "def exp(x, y, args):\n",
    "    \"\"\" An exponential function described as a first-order ODE. \"\"\"\n",
    "    \n",
    "    dydx = args['a']*y\n",
    "    return dydx"
   ]
  },
  {
   "cell_type": "markdown",
   "metadata": {},
   "source": [
    "### Plot the result for RK2"
   ]
  },
  {
   "cell_type": "code",
   "execution_count": 4,
   "metadata": {
    "collapsed": false
   },
   "outputs": [
    {
     "data": {
      "image/png": "[encoded data removed]",
      "text/plain": [
       "<Figure size 432x288 with 1 Axes>"
      ]
     },
     "metadata": {},
     "output_type": "display_data"
    }
   ],
   "source": [
    "y_0 = np.array([1.]) # Initial condition\n",
    "\n",
    "N     = 10 # Num of steps to take\n",
    "x_max = 5. # Limit of the range to evaluate the function\n",
    "x     = np.linspace(0., x_max, N+1) # Array of discretized steps\n",
    "\n",
    "solve_args = {'a':1}\n",
    "\n",
    "y = RungeKutta2(exp, y_0, x, solve_args) # Solve the ODE with Explicit Euler\n",
    "\n",
    "plt.plot(x, y[:,0], 'b-o', label='Second Order Runge-Kutta (RK2)')\n",
    "plt.plot(x, np.exp(solve_args['a']*x), 'k--', label='Analytic solution for $e^{x}$')\n",
    "plt.xlabel(r'$x$')\n",
    "plt.ylabel(r'$y(x)$')\n",
    "plt.legend(loc=2)\n",
    "\n",
    "plt.show()"
   ]
  },
  {
   "cell_type": "markdown",
   "metadata": {},
   "source": [
    "\n",
    "### The Fourth Order Runge-Kutta Method\n",
    "\n",
    "The classical Runge-Kutta method does just this, up to an order of accuracy $\\mathcal{O}(h^4)$ — 3 orders higher than Explicit Euler! We're not going to derive the approximation here but you can look it up if you're interested. \n",
    "\n",
    "The finite difference step in this case is given by\n",
    "\n",
    "$$\n",
    "y_{n+1} = y_n + \\tfrac{1}{6} \\left( k_1 + 2k_2 + 2k_3 + k_4 \\right),\n",
    "$$\n",
    "\n",
    "where \n",
    "\n",
    "$$\n",
    "\\begin{align}\n",
    "k_1 &= hf(x_n, y_n), \\\\\n",
    "k_2 &= hf(x_n + \\tfrac{h}{2}, y_n + \\tfrac{k_1}{2}), \\\\\n",
    "k_3 &= hf(x_n + \\tfrac{h}{2}, y_n + \\tfrac{k_2}{2}), \\\\\n",
    "k_4 &= hf(x_n + h, y_n + k_3).\n",
    "\\end{align}\n",
    "$$\n"
   ]
  },
  {
   "cell_type": "markdown",
   "metadata": {
    "deletable": true,
    "editable": true
   },
   "source": [
    "### Implementing the Method in Python\n",
    "\n",
    "Just like we did with the Explicit Euler and RK2 methods, we'll define a function to implement the Fourth Order Runge-Kutta method for a first-order ODE system."
   ]
  },
  {
   "cell_type": "code",
   "execution_count": 5,
   "metadata": {
    "collapsed": false,
    "deletable": true,
    "editable": true
   },
   "outputs": [],
   "source": [
    "def RungeKutta4(func, y_0, x, args={}):\n",
    "    \"\"\" Classical Runge-Kutta (RK4) approximation to a first-order ODE system\n",
    "    with initial conditions.\n",
    "\n",
    "    Args:\n",
    "        func: (callable) The first-order ODE system to be approximated.\n",
    "        y_0:  (array)    The initial condition.\n",
    "        t:    (array)    A sequence of time points for which to solve for y.\n",
    "        args: (dict)     Extra arguments to pass to function.\n",
    "\n",
    "    Out:\n",
    "        y:    (array)    The approximated solution of the system at each time in t,\n",
    "                         with the initial value y_0 in the first row.\n",
    "    \"\"\"\n",
    "\n",
    "    # Initialise the approximation array\n",
    "    y = np.zeros([len(x), len(y_0)])\n",
    "    y[0] = y_0\n",
    "\n",
    "    # Loop through the time steps, approximating this step from the prev step\n",
    "    for i, x_i in enumerate(x[:-1]):\n",
    "\n",
    "        h   = x[i+1] - x_i # size of the step\n",
    "\n",
    "        k_1 = h*func(x_i, y[i], args)\n",
    "        k_2 = h*func(x_i + h/2. , y[i] + k_1/2., args)\n",
    "        k_3 = h*func(x_i + h/2. , y[i] + k_2/2., args)\n",
    "        k_4 = h*func(x_i + h    , y[i] + k_3, args)\n",
    "\n",
    "        y[i+1] = y[i] + 1/6.*(k_1 + 2.*k_2 + 2.*k_3 + k_4) # RK4 step\n",
    "\n",
    "    return y"
   ]
  },
  {
   "cell_type": "markdown",
   "metadata": {},
   "source": [
    "### Plot the result for RK4"
   ]
  },
  {
   "cell_type": "code",
   "execution_count": 6,
   "metadata": {
    "collapsed": false
   },
   "outputs": [
    {
     "data": {
      "image/png": "[encoded data removed]",
      "text/plain": [
       "<Figure size 432x288 with 1 Axes>"
      ]
     },
     "metadata": {},
     "output_type": "display_data"
    }
   ],
   "source": [
    "y = RungeKutta4(exp, y_0, x, solve_args) # Solve the ODE with Explicit Euler\n",
    "\n",
    "plt.plot(x, y[:,0], 'b-o', label='Fourth Order Runge-Kutta (RK4)')\n",
    "plt.plot(x, np.exp(solve_args['a']*x), 'k--', label='Analytic solution for $e^{x}$')\n",
    "plt.xlabel(r'$x$')\n",
    "plt.ylabel(r'$y(x)$')\n",
    "plt.legend(loc=2)\n",
    "\n",
    "plt.show()"
   ]
  },
  {
   "cell_type": "markdown",
   "metadata": {
    "deletable": true,
    "editable": true
   },
   "source": [
    "### Checking Accuracy\n",
    "\n",
    "We'll define our test function `exp` just as we did in Part 1."
   ]
  },
  {
   "cell_type": "code",
   "execution_count": 7,
   "metadata": {
    "collapsed": false,
    "deletable": true,
    "editable": true
   },
   "outputs": [],
   "source": [
    "def exp(x, y, args):\n",
    "    \"\"\" An exponential function described as a first-order ODE. \"\"\"\n",
    "    \n",
    "    dydx = args['a']*y\n",
    "    return dydx"
   ]
  },
  {
   "cell_type": "markdown",
   "metadata": {
    "deletable": true,
    "editable": true
   },
   "source": [
    "And just as we did for the Explicit Euler, we'll use this test function to check the order of accuracy of the method by looking over a wide range of stepsizes."
   ]
  },
  {
   "cell_type": "code",
   "execution_count": 8,
   "metadata": {
    "collapsed": false,
    "deletable": true,
    "editable": true
   },
   "outputs": [
    {
     "data": {
      "text/plain": [
       "<matplotlib.legend.Legend at 0x11269fb50>"
      ]
     },
     "execution_count": 8,
     "metadata": {},
     "output_type": "execute_result"
    },
    {
     "data": {
      "image/png": "[encoded data removed]",
      "text/plain": [
       "<Figure size 432x288 with 1 Axes>"
      ]
     },
     "metadata": {},
     "output_type": "display_data"
    }
   ],
   "source": [
    "y_0 = np.array([1.]) # Initial condition\n",
    "\n",
    "solve_args = {}\n",
    "solve_args['a'] = 1.\n",
    "\n",
    "t_max = 5.\n",
    "\n",
    "# Range of stepsizes\n",
    "max_N = 12\n",
    "N = 2**np.arange(2, max_N) # N = 2, 4, 8, ..., 2^max_N\n",
    "\n",
    "y_end_rk2 = np.zeros(len(N))    # array to fill with the final values\n",
    "y_end_rk4 = np.zeros(len(N))    # array to fill with the final values\n",
    "stepsize  = np.zeros(len(N))    # array to fill with the stepsizes\n",
    "\n",
    "for i, N_i in enumerate(N): # loop over different numbers of steps\n",
    "\n",
    "    t = np.linspace(0., t_max, N_i+1)\n",
    "    \n",
    "    y_end_rk2[i] = RungeKutta2(exp, y_0, t, solve_args)[-1]\n",
    "    y_end_rk4[i] = RungeKutta4(exp, y_0, t, solve_args)[-1]\n",
    "    \n",
    "    stepsize[i] = t_max/N_i\n",
    "    \n",
    "plt.loglog(stepsize, abs(y_end_rk2 - np.exp(solve_args['a']*t_max)), 'g-X', label='Global error for RK2')\n",
    "\n",
    "plt.loglog(stepsize, abs(y_end_rk4 - np.exp(solve_args['a']*t_max)), 'b-o', label='Global error for RK4')\n",
    "\n",
    "\n",
    "# Plot the h^2 error\n",
    "plt.loglog(stepsize, stepsize**2,'k--', label=r'$h^2$')\n",
    "\n",
    "# Plot the h^4 error\n",
    "plt.loglog(stepsize, stepsize**4,'k--', label=r'$h^4$')\n",
    "\n",
    "# Label the x-axis\n",
    "plt.xlabel(r'$h$')\n",
    "\n",
    "# Move the legend to the upper left\n",
    "plt.legend(loc=2)"
   ]
  },
  {
   "cell_type": "markdown",
   "metadata": {
    "deletable": true,
    "editable": true
   },
   "source": [
    "So we've confirmed that the Runge-Kutta method is $\\mathcal{O}(h^4)$ – so that the global error gets smaller much quicker with increased number of steps than the Explicit Euler."
   ]
  },
  {
   "cell_type": "markdown",
   "metadata": {
    "deletable": true,
    "editable": true
   },
   "source": [
    "## Example 2: A Forced and Damped Pendulum\n",
    "\n",
    "The next problem we're going to look at is a second-order ODE, but crucially _any higher-order ODE can be rewritten as a set of coupled first-order equations_, such that we can apply the solvers we've already designed. We'll see how to do that with this example.\n",
    "\n",
    "### The Physical Problem\n",
    "\n",
    "Take an idealised pendulum: a weightless string of length $\\ell$, fixed at one end with a mass $m$ at the other. The pendulum is free to swing in a plane subject to gravity, friction proportional to its velocity $v$, and may be driven by an external periodic force $F_d \\cos {\\omega_d t}$.\n",
    "\n",
    "We start with Newton's second law applied to the horizontal displacement $x$ for the unforced and undamped pendulum,\n",
    "\n",
    "$$m\\ddot{x} = -mg \\sin{\\theta}$$\n",
    "\n",
    "where $g$ is the local acceleration due to gravity and $\\theta{(t)}$ is the angle of displacement of the string from vertical at time $t$. We now apply a frictional force proportional to the translational velocity and rearrange to obtain a second-order homogeneous differential equation,\n",
    "\n",
    "$$ m \\ddot{x} + k \\ell \\dot{x} + mg \\sin{\\theta} = 0 $$\n",
    "\n",
    "where $k$ is the coefficient of friction.\n",
    "\n",
    "We want to consider angular displacement, so substitute $\\dot{x} = \\ell \\dot{\\theta}$ and $\\ddot{x} = \\ell \\ddot{\\theta}$, and now apply the driving force \n",
    "\n",
    "$$ m \\ell \\ddot{\\theta} + k \\ell \\dot{\\theta} + mg \\sin{\\theta} = F_d \\cos {\\omega_d t} $$\n",
    "\n",
    "The equation is nonlinear (due to the sine function), so finding an analytic solution is going to be difficult. Numerical methods are the next line of attack, so we'll try our Runge-Kutta method on the problem. First we must rewrite the second-order equation as a set of coupled first-order equations. Let $y_0 = \\theta$, $y_1 = \\dot{\\theta}$ and $y_2 = \\ddot{\\theta}$. Then \n",
    "\n",
    "$$ \n",
    "\\begin{align*}\n",
    "y_0' &= y_1 = \\dot{\\theta} \\\\\n",
    "y_1' &= y_2 = \\ddot{\\theta} = -\\frac{k}{m}\\dot{\\theta} - \\frac{g}{\\ell} \\sin{\\theta} + \\frac{F_d}{m \\ell} cos{\\omega_d t}\n",
    "\\end{align*}\n",
    "$$\n",
    "    \n",
    "is the system we want. We make a final tidying of the parameters by letting $\\alpha = g/\\ell$, $\\beta = k/m$ and $\\gamma = F/m\\ell$\n",
    "\n",
    "$$\n",
    "\\begin{align*}\n",
    "y_0' &= y_1 \\\\\n",
    "y_1' &= -\\alpha \\sin{y_0} -\\beta y_1 + \\gamma \\cos{\\omega t}\n",
    "\\end{align*}\n",
    "$$"
   ]
  },
  {
   "cell_type": "markdown",
   "metadata": {
    "deletable": true,
    "editable": true
   },
   "source": [
    "### Setting up the Problem in Python\n",
    "\n",
    "We write this pair of euqations up as a Python function to be passed to our ODE integrator:"
   ]
  },
  {
   "cell_type": "code",
   "execution_count": 9,
   "metadata": {
    "collapsed": false,
    "deletable": true,
    "editable": true
   },
   "outputs": [],
   "source": [
    "def pendulum(t, y, args):\n",
    "    \"\"\" A damped and forced pendulum, described as set of two first-order ODEs.\n",
    "\n",
    "    Args:\n",
    "        t: Time\n",
    "        y: Pendulum system vector [angle, angular velocity] \n",
    "        args['alpha']: gravity_acc/length_of_pendulum\n",
    "        args['beta']: friction_constant/mass_pendulum\n",
    "        args['gamma']: driving_force/mass_pendulum/length_pendulum\n",
    "        args['omega']: driving_freq\n",
    "\n",
    "    Returns:\n",
    "        dydt: ODE vector\n",
    "    \"\"\"\n",
    "\n",
    "    dydt = np.zeros(2)\n",
    "\n",
    "    dydt[0] = y[1]\n",
    "    dydt[1] = (-args['alpha']*np.sin(y[0]) - args['beta']*y[1] + \n",
    "                args['gamma']*np.cos(args['omega']*t))\n",
    "\n",
    "    return dydt"
   ]
  },
  {
   "cell_type": "markdown",
   "metadata": {
    "deletable": true,
    "editable": true
   },
   "source": [
    "Now we're ready to select some parameters. First we'll remove friction ($k = 0$) and apply no driving force ($F_d = 0$), under which conditions we expect to see simple harmonic motion of the pendulum back and forth."
   ]
  },
  {
   "cell_type": "code",
   "execution_count": 10,
   "metadata": {
    "collapsed": false,
    "deletable": true,
    "editable": true
   },
   "outputs": [],
   "source": [
    "### Parameters\n",
    "\n",
    "gravity_acc = 10. # [m /s2]\n",
    "\n",
    "length_pendulum = 1. # [m]\n",
    "mass_pendulum = 1. # [kg]\n",
    "friction_constant = 0. # [kg /m /s]\n",
    "\n",
    "driving_force = 0. # [N]\n",
    "driving_freq = 0. # [2π /s]\n",
    "\n",
    "N = 200\n",
    "\n",
    "t = np.linspace(0., 10., N+1) # [s] an array of time steps"
   ]
  },
  {
   "cell_type": "markdown",
   "metadata": {
    "deletable": true,
    "editable": true
   },
   "source": [
    "We're going to pass the arguments to the solver as a dict, so let's make that now."
   ]
  },
  {
   "cell_type": "code",
   "execution_count": 11,
   "metadata": {
    "collapsed": false,
    "deletable": true,
    "editable": true
   },
   "outputs": [],
   "source": [
    "solve_args = {}\n",
    "solve_args['alpha'] = gravity_acc/length_pendulum\n",
    "solve_args['beta'] = friction_constant/mass_pendulum\n",
    "solve_args['gamma'] = driving_force/mass_pendulum/length_pendulum\n",
    "solve_args['omega'] = driving_freq"
   ]
  },
  {
   "cell_type": "markdown",
   "metadata": {
    "deletable": true,
    "editable": true
   },
   "source": [
    "Next we need some initial conditions. We'll pick $\\theta_0 = \\tfrac{\\pi}{8}$ so that we can check our numerical result with the **small angle approximation**, \n",
    "\n",
    "$$\\sin \\theta \\approx \\theta.$$\n",
    "\n",
    "With this approximation, the undamped and unforced solution can be found analytically: $y = y_0 \\cos (\\sqrt{\\alpha} t)$ (you can check this by substituting it into the original ODE)."
   ]
  },
  {
   "cell_type": "code",
   "execution_count": 12,
   "metadata": {
    "collapsed": false,
    "deletable": true,
    "editable": true
   },
   "outputs": [],
   "source": [
    "initial_ang = np.pi/8 # [rad]\n",
    "initial_ang_vel = 0. # [rad /s]\n",
    "\n",
    "initial_cond = np.array([initial_ang, initial_ang_vel])"
   ]
  },
  {
   "cell_type": "markdown",
   "metadata": {
    "deletable": true,
    "editable": true
   },
   "source": [
    "### Solving the Problem\n",
    "\n",
    "Now we can solve the ODE system using the Runge-Kutta method we made above and plot the angle $y_0$ over time."
   ]
  },
  {
   "cell_type": "code",
   "execution_count": 13,
   "metadata": {
    "collapsed": false,
    "deletable": true,
    "editable": true
   },
   "outputs": [
    {
     "data": {
      "text/plain": [
       "<matplotlib.legend.Legend at 0x113c05d50>"
      ]
     },
     "execution_count": 13,
     "metadata": {},
     "output_type": "execute_result"
    },
    {
     "data": {
      "image/png": "[encoded data removed]",
      "text/plain": [
       "<Figure size 432x288 with 1 Axes>"
      ]
     },
     "metadata": {},
     "output_type": "display_data"
    }
   ],
   "source": [
    "from scipy.integrate import odeint\n",
    "\n",
    "# y = odeint(pendulum, initial_cond, t, args=(solve_args,))\n",
    "\n",
    "# Solve Pendulum ODE with RK2 or RK4\n",
    "y = RungeKutta2(pendulum, initial_cond, t, solve_args)\n",
    "\n",
    "y_small_ang = initial_ang*np.cos(np.sqrt(solve_args['alpha'])*t)\n",
    "\n",
    "plt.plot(t, y[:,0], c='b', label='Angle')\n",
    "plt.plot(t, y_small_ang, 'r--', label='Small angle approx.')\n",
    "plt.xlabel('Time (s)')\n",
    "plt.ylabel('Angle (rad)')\n",
    "plt.legend(loc=2)"
   ]
  },
  {
   "cell_type": "markdown",
   "metadata": {
    "deletable": true,
    "editable": true
   },
   "source": [
    "So we see that the pendulum oscillates as expected and the frequency matches the known small angle result reasonably well for a few swings. (Subject to the error in the small angle approximation. Try making `initial_ang` bigger or smaller to see where the approximation works well.)\n",
    "\n",
    "Other perspectives we might be interested in are the the pendulum's trajectory in phase space, which we plot in a **phase diagram** and its spectral properties, via a **power spectrum**. We'll plot those now."
   ]
  },
  {
   "cell_type": "code",
   "execution_count": 14,
   "metadata": {
    "collapsed": false,
    "deletable": true,
    "editable": true
   },
   "outputs": [],
   "source": [
    "def plot_pendulum(t,y):\n",
    "    \"\"\" Plot Angle, Phase Diagram, FFT. \"\"\"\n",
    "    \n",
    "    fig = plt.figure()\n",
    "\n",
    "    # Plot Angle\n",
    "    ax_1 = fig.add_subplot(211)\n",
    "    ax_1.plot(t, y[:,0], c='b')\n",
    "    ax_1.set_xlabel('Time (s)')\n",
    "    ax_1.set_ylabel('Angle (rad)')\n",
    "    \n",
    "    # Plot Phase Diagram\n",
    "    ax_2 = fig.add_subplot(223)\n",
    "    ax_2.plot(y[:,0], y[:,1], c='g')\n",
    "    ax_2.set_xlabel('Angle (rad)')\n",
    "    ax_2.set_ylabel('Angular Velocity (rad /s)')\n",
    "    \n",
    "    # Fourier Transform\n",
    "    f_fft = np.fft.fftfreq(len(t), t[1]-t[0])\n",
    "    y_fft = np.fft.fft(y[:,0])/np.sqrt(2*len(t))\n",
    "    \n",
    "    # Plot Power Spectrum\n",
    "    ax_3 = fig.add_subplot(224)\n",
    "    ax_3.plot(f_fft[:N/2]*2*np.pi, abs(y_fft[:N/2]), c='r')\n",
    "    ax_3.set_xlim([0, 30])\n",
    "    ax_3.set_xlabel('Ang Freq ($2 \\pi$ Hz)')\n",
    "    ax_3.set_ylabel('Power')"
   ]
  },
  {
   "cell_type": "code",
   "execution_count": 15,
   "metadata": {
    "collapsed": false,
    "deletable": true,
    "editable": true
   },
   "outputs": [
    {
     "data": {
      "image/png": "[encoded data removed]",
      "text/plain": [
       "<Figure size 432x288 with 3 Axes>"
      ]
     },
     "metadata": {},
     "output_type": "display_data"
    }
   ],
   "source": [
    "plot_pendulum(t,y)"
   ]
  },
  {
   "cell_type": "markdown",
   "metadata": {
    "deletable": true,
    "editable": true
   },
   "source": [
    "The phase diagram (green, bottom left) shows each possible physical state for the system. We see the undamped, unforced pendulum follows a regular orbit. The power spectrum (red, bottom right) is found by taking a discrete Fourier transform using NumPy's `fftpack` module. We see a single narrow peak at $\\omega \\approx \\sqrt{\\alpha}$, the pendulum's natural frequency."
   ]
  },
  {
   "cell_type": "markdown",
   "metadata": {
    "deletable": true,
    "editable": true
   },
   "source": [
    "### Adding Friction\n",
    "\n",
    "To better model a physical pendulum we might add a friction constant $k$, and see what happens when we solve the system with this included."
   ]
  },
  {
   "cell_type": "code",
   "execution_count": 16,
   "metadata": {
    "collapsed": false,
    "deletable": true,
    "editable": true
   },
   "outputs": [
    {
     "ename": "NameError",
     "evalue": "name 'ode_int_rk' is not defined",
     "output_type": "error",
     "traceback": [
      "\u001b[0;31m---------------------------------------------------------------------------\u001b[0m",
      "\u001b[0;31mNameError\u001b[0m                                 Traceback (most recent call last)",
      "\u001b[0;32m<ipython-input-16-c22b67549682>\u001b[0m in \u001b[0;36m<module>\u001b[0;34m()\u001b[0m\n\u001b[1;32m      3\u001b[0m \u001b[0;34m\u001b[0m\u001b[0m\n\u001b[1;32m      4\u001b[0m \u001b[0;31m# Solve Pendulum ODE with RK4\u001b[0m\u001b[0;34m\u001b[0m\u001b[0;34m\u001b[0m\u001b[0m\n\u001b[0;32m----> 5\u001b[0;31m \u001b[0my\u001b[0m \u001b[0;34m=\u001b[0m \u001b[0mode_int_rk\u001b[0m\u001b[0;34m(\u001b[0m\u001b[0mpendulum\u001b[0m\u001b[0;34m,\u001b[0m \u001b[0minitial_cond\u001b[0m\u001b[0;34m,\u001b[0m \u001b[0mt\u001b[0m\u001b[0;34m,\u001b[0m \u001b[0msolve_args\u001b[0m\u001b[0;34m)\u001b[0m\u001b[0;34m\u001b[0m\u001b[0m\n\u001b[0m\u001b[1;32m      6\u001b[0m \u001b[0;34m\u001b[0m\u001b[0m\n\u001b[1;32m      7\u001b[0m \u001b[0mplot_pendulum\u001b[0m\u001b[0;34m(\u001b[0m\u001b[0mt\u001b[0m\u001b[0;34m,\u001b[0m\u001b[0my\u001b[0m\u001b[0;34m)\u001b[0m\u001b[0;34m\u001b[0m\u001b[0m\n",
      "\u001b[0;31mNameError\u001b[0m: name 'ode_int_rk' is not defined"
     ]
    }
   ],
   "source": [
    "friction_constant = .5 # [kg /m /s]\n",
    "solve_args['beta'] = friction_constant/mass_pendulum\n",
    "\n",
    "# Solve Pendulum ODE with RK4\n",
    "y = ode_int_rk(pendulum, initial_cond, t, solve_args)\n",
    "\n",
    "plot_pendulum(t,y)"
   ]
  },
  {
   "cell_type": "markdown",
   "metadata": {
    "deletable": true,
    "editable": true
   },
   "source": [
    "We see that over time the friction attenuates the pendulum's swing. The phase space trajectory no longer orbits consistently but spirals in, and the spectral peak has been widened out to include a spread of lower frequency components."
   ]
  },
  {
   "cell_type": "markdown",
   "metadata": {
    "deletable": true,
    "editable": true
   },
   "source": [
    "### Adding a Driving Force"
   ]
  },
  {
   "cell_type": "code",
   "execution_count": null,
   "metadata": {
    "collapsed": false,
    "deletable": true,
    "editable": true
   },
   "outputs": [],
   "source": [
    "driving_force = 10. # [N]\n",
    "driving_freq = 10. # [2π /s]\n",
    "\n",
    "solve_args['gamma'] = driving_force/mass_pendulum/length_pendulum\n",
    "solve_args['omega'] = driving_freq\n",
    "\n",
    "# Solve Pendulum ODE with RK4\n",
    "y = ode_int_rk(pendulum, initial_cond, t, solve_args)\n",
    "\n",
    "plot_pendulum(t,y)"
   ]
  },
  {
   "cell_type": "markdown",
   "metadata": {
    "deletable": true,
    "editable": true
   },
   "source": [
    "The driven system is of course more interesting! The phase space trajectory looks chaotic, but the pendulum's behaviour is clear in the power spectrum, where we see we now have an additional peak at $\\omega_F$.\n",
    "\n",
    "Anyway, there's plenty interesting to explore in the damped forced pendulum system, but as we're just interested in the integration methods here, we'll move on. The takeaway is: by converting our second-order ODE into a system of first-order ODEs, we are able to solve it using the methods we've already written. And crucially, this can be done for any higher-order ODE."
   ]
  }
 ],
 "metadata": {
  "kernelspec": {
   "display_name": "Python 2",
   "language": "python",
   "name": "python2"
  },
  "language_info": {
   "codemirror_mode": {
    "name": "ipython",
    "version": 2
   },
   "file_extension": ".py",
   "mimetype": "text/x-python",
   "name": "python",
   "nbconvert_exporter": "python",
   "pygments_lexer": "ipython2",
   "version": "2.7.9"
  }
 },
 "nbformat": 4,
 "nbformat_minor": 0
}
