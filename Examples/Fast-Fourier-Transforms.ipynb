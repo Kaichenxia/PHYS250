{
 "cells": [
  {
   "cell_type": "markdown",
   "metadata": {},
   "source": [
    "# Fast Fourier Transforms (FFT)\n",
    "\n",
    "In this set of exercises, we are going to go through several examples of how to use FFTs for \"practical\" applications.\n",
    "\n",
    "Table of Contents\n",
    "1. [Introduction]()\n",
    "   1. [Additional resources]()\n",
    "   1. [Real Life Applications ]()\n",
    "1. [Technical details for the FFT algorithms and functions that we are going to use]()\n",
    "   1. [Import libraries]()\n",
    "   1. [Basic examples of fftpack usage]()\n",
    "1. [Hands on applications of FFT]()\n",
    "   1. [Simple sine wave function]()\n",
    "   1. [Noisy sine function]()\n",
    "   1. [Two dimensional Fourier Transform]()\n",
    "1. [Examples using wav files]()\n",
    "   1. [Importing and manipulating WAV files]()\n",
    "1. [Digital Image Processing: Making an image blurry using FFT]()"
   ]
  },
  {
   "cell_type": "markdown",
   "metadata": {},
   "source": [
    "## Introduction\n",
    "\n",
    "As discussed in the lecture, the FFT is a discrete Fourier transform algorithm that samples a signal over a period of time and divides it into its frequency components. \n",
    "\n",
    "Somewhat separately, Fourier analysis converts a dignal from its orginal domain into a frequency domain representation. FFT rapidly computes the transformation by factoring the descrete Fourier matrix into a product of sparse factors."
   ]
  },
  {
   "cell_type": "markdown",
   "metadata": {},
   "source": [
    "### Additional resources\n",
    "* [Youtube video](https://www.youtube.com/watch?v=Qm84XIoTy0s) that goes into a lot of great detail and example\n",
    "* [An Interactive Guide To The Fourier Transform](https://betterexplained.com/articles/an-interactive-guide-to-the-fourier-transform/): this is a great website that breaks down what the Fourier transform is and how it is used"
   ]
  },
  {
   "cell_type": "markdown",
   "metadata": {},
   "source": [
    "### Real Life Applications \n",
    "*Where is the Fourier Transform used in the real world?*\n",
    "* sound wave analysis\n",
    "* image data analysis\n",
    "* digital image processing\n",
    "* computer -assisted image processing\n",
    "* Edge detection\n",
    "    (when you take a picture and you want to outline a person or something and transfer it to another image)  "
   ]
  },
  {
   "cell_type": "markdown",
   "metadata": {},
   "source": [
    "## Technical details for the FFT algorithms and functions that we are going to use\n",
    "\n",
    "Rather than write our own \"full\" FFT (we already wrote a basic version in the [Fourier Transforms and Analysis](https://github.com/UChicagoPhysics/PHYS250/blob/master/Examples/Fourier-Transforms-Analysis.ipynb) notebook) we are going to use a very standard set of libraries from `scipy`:\n",
    "\n",
    "* [scipy.fftpack](https://docs.scipy.org/doc/scipy/reference/fftpack.html)\n",
    "\n",
    "This provides highly optimized code the performs FFT and inverse FFT, for example:\n",
    "\n",
    "~~~~\n",
    "fft(x[, n, axis, overwrite_x])   Return discrete Fourier transform of real or complex sequence.\n",
    "ifft(x[, n, axis, overwrite_x])  Return discrete inverse Fourier transform of real or complex sequence.\n",
    "~~~~\n",
    "\n",
    "We will use these codes below. But first let's get our hands a bit dirty."
   ]
  },
  {
   "cell_type": "markdown",
   "metadata": {},
   "source": [
    "### Import the usual libraries"
   ]
  },
  {
   "cell_type": "code",
   "execution_count": null,
   "metadata": {},
   "outputs": [],
   "source": [
    "import numpy as np\n",
    "import matplotlib.pyplot as plt\n",
    "import matplotlib.cm as cm\n",
    "%matplotlib inline"
   ]
  },
  {
   "cell_type": "markdown",
   "metadata": {},
   "source": [
    "### Basic examples of `fftpack` usage\n",
    "\n",
    "Here is an example of `fft` and `ifft`"
   ]
  },
  {
   "cell_type": "code",
   "execution_count": null,
   "metadata": {},
   "outputs": [],
   "source": [
    "from scipy.fftpack import fft, ifft \n",
    "\n",
    "x = np.array([1.0, 2.0, 1.0, -1.0, 1.5])\n",
    "y = fft(x) # fft Return discrete Fourier transform of real or complex sequence. \n",
    "y"
   ]
  },
  {
   "cell_type": "code",
   "execution_count": null,
   "metadata": {},
   "outputs": [],
   "source": [
    "yinv = ifft(y) #Return discrete inverse Fourier transform of real or complex sequence.\n",
    "yinv"
   ]
  },
  {
   "cell_type": "markdown",
   "metadata": {},
   "source": [
    "----\n",
    "# DISCUSSION\n",
    "\n",
    "1. What do you notice about the return values?\n",
    "1. How does this relate to the details of (F)FT's that we discussed already?\n",
    "1. Where does this come from?\n",
    "----"
   ]
  },
  {
   "cell_type": "markdown",
   "metadata": {},
   "source": [
    "`fftfreq` returns sample frequency points:\n",
    "\n",
    ">Return the Discrete Fourier Transform sample frequencies.\n",
    ">\n",
    ">The returned float array f contains the frequency bin centers in cycles per unit of the sample spacing (with zero at the start). For instance, if the sample spacing is in seconds, then the frequency unit is cycles/second.\n",
    ">\n",
    ">Given a window length n and a sample spacing d\n",
    "\n",
    "https://docs.scipy.org/doc/numpy/reference/generated/numpy.fft.fftfreq.html"
   ]
  },
  {
   "cell_type": "code",
   "execution_count": null,
   "metadata": {},
   "outputs": [],
   "source": [
    "from scipy.fftpack import fftfreq\n",
    "\n",
    "freq = fftfreq(8, 0.125)\n",
    "freq\n"
   ]
  },
  {
   "cell_type": "markdown",
   "metadata": {},
   "source": [
    "## Hands on applications of FFT"
   ]
  },
  {
   "cell_type": "markdown",
   "metadata": {},
   "source": [
    "Here we plot the fast fourier transform (FFT) of the sum of two sine waves. We will import the libraries again since this is a long notebook and I don't want you to forget what we're doing!"
   ]
  },
  {
   "cell_type": "code",
   "execution_count": null,
   "metadata": {},
   "outputs": [],
   "source": [
    "from scipy.fftpack import fft\n",
    "\n",
    "# Number of sample points\n",
    "N = 600\n",
    "\n",
    "# sample spacing\n",
    "T = 1.0 / 800.0                           ## Define a sampling frequency\n",
    "\n",
    "# \"Spatial\" coordinates \n",
    "x = np.linspace(0.0, N*T, N)              ## Range given by number of points times spatial sampling frequency\n",
    "print(\"x = \")\n",
    "print(x)\n",
    "\n",
    "# \"Frequency\" coordinates\n",
    "xf = np.linspace(0.0, 1.0/(2.0*T), N//2)  ## Range given by inverse of the spatial sampling frequency\n",
    "print(\"xf = \")\n",
    "print(xf)"
   ]
  },
  {
   "cell_type": "markdown",
   "metadata": {},
   "source": [
    "----\n",
    "# DISCUSSION\n",
    "1. Why are we defining the linear space this way?\n",
    "1. How are `x` and `xf` related?\n",
    "----"
   ]
  },
  {
   "cell_type": "markdown",
   "metadata": {},
   "source": [
    "### Simple sine wave function "
   ]
  },
  {
   "cell_type": "code",
   "execution_count": null,
   "metadata": {},
   "outputs": [],
   "source": [
    "# Function that we want to tranform\n",
    "a = np.sin(50.0 * 2.0*np.pi*x)\n",
    "b = 0.5*np.sin(80.0 * 2.0*np.pi*x)\n",
    "y = a+b"
   ]
  },
  {
   "cell_type": "markdown",
   "metadata": {},
   "source": [
    "Now compute the FFT using the `fftpack` library"
   ]
  },
  {
   "cell_type": "code",
   "execution_count": null,
   "metadata": {},
   "outputs": [],
   "source": [
    "# Fast Fourier Transform\n",
    "yf = fft(y)"
   ]
  },
  {
   "cell_type": "markdown",
   "metadata": {},
   "source": [
    "Plot the FFT"
   ]
  },
  {
   "cell_type": "code",
   "execution_count": null,
   "metadata": {},
   "outputs": [],
   "source": [
    "# Plot both the function and the FFT\n",
    "fig,axs = plt.subplots(ncols=1, nrows=2, figsize=(12,10))\n",
    "\n",
    "axs[0].plot(x,y)                                 ## This is the function itself\n",
    "axs[1].semilogy(xf, 2./N * np.abs(yf[0:N//2]))       ## This is its tranform\n",
    "plt.grid()\n",
    "plt.show()"
   ]
  },
  {
   "cell_type": "markdown",
   "metadata": {},
   "source": [
    "----\n",
    "# DISCUSSION\n",
    "1. What are some features of the FFT spectrum that you plotted?\n",
    "----"
   ]
  },
  {
   "cell_type": "markdown",
   "metadata": {},
   "source": [
    "## Noisy sine function"
   ]
  },
  {
   "cell_type": "code",
   "execution_count": null,
   "metadata": {},
   "outputs": [],
   "source": [
    "# Seed the random number generator\n",
    "np.random.seed(1234)\n",
    "\n",
    "time_step = 0.02\n",
    "period = 5.\n",
    "\n",
    "time_vec = np.arange(0, 20, time_step)\n",
    "sig = (np.sin(2 * np.pi / period * time_vec)\n",
    "       + 0.5 * np.random.randn(time_vec.size))\n",
    "\n",
    "plt.figure(figsize=(6, 5))\n",
    "plt.plot(time_vec, sig, label='Original signal')"
   ]
  },
  {
   "cell_type": "code",
   "execution_count": null,
   "metadata": {},
   "outputs": [],
   "source": [
    "# The FFT of the signal\n",
    "sig_fft = fft(sig)\n",
    "\n",
    "# And the power (sig_fft is of complex dtype)\n",
    "power = np.abs(sig_fft)\n",
    "\n",
    "# The corresponding frequencies\n",
    "sample_freq = fftfreq(sig.size, d=time_step)\n",
    "\n",
    "# Plot the FFT power\n",
    "plt.figure(figsize=(6, 5))\n",
    "plt.plot(sample_freq, power)\n",
    "plt.xlim(-1,3)\n",
    "plt.xlabel('Frequency [Hz]')\n",
    "plt.ylabel('power')\n",
    "\n",
    "# Find the peak frequency: we can focus on only the positive frequencies\n",
    "pos_mask = np.where(sample_freq > 0)\n",
    "freqs = sample_freq[pos_mask]\n",
    "peak_freq = freqs[power[pos_mask].argmax()]\n",
    "\n",
    "# Check that it does indeed correspond to the frequency that we generate\n",
    "# the signal with\n",
    "np.allclose(peak_freq, 1./period)\n",
    "\n",
    "# An inner plot to show the peak frequency\n",
    "axes = plt.axes([0.55, 0.3, 0.3, 0.5])\n",
    "plt.title('Peak frequency')\n",
    "plt.plot(freqs[:8], power[:8])\n",
    "plt.setp(axes, yticks=[])"
   ]
  },
  {
   "cell_type": "markdown",
   "metadata": {},
   "source": [
    "### Remove all the high frequencies\n",
    "\n",
    "We now remove all the high frequencies and transform back from frequencies to signal."
   ]
  },
  {
   "cell_type": "code",
   "execution_count": null,
   "metadata": {},
   "outputs": [],
   "source": [
    "high_freq_fft = sig_fft.copy()\n",
    "high_freq_fft[np.abs(sample_freq) > peak_freq] = 0\n",
    "filtered_sig = fftpack.ifft(high_freq_fft)\n",
    "\n",
    "plt.figure(figsize=(6, 5))\n",
    "plt.plot(time_vec, sig, label='Original signal')\n",
    "plt.plot(time_vec, filtered_sig, linewidth=3, label='Filtered signal')\n",
    "plt.xlabel('Time [s]')\n",
    "plt.ylabel('Amplitude')\n",
    "\n",
    "plt.legend(loc='best')\n",
    "\n",
    "plt.show()"
   ]
  },
  {
   "cell_type": "markdown",
   "metadata": {},
   "source": [
    "## Two dimensional Fourier Transform\n",
    "\n",
    "The following example demonstrates a 2-dimensional inverse fast fourier transform."
   ]
  },
  {
   "cell_type": "code",
   "execution_count": null,
   "metadata": {},
   "outputs": [],
   "source": [
    "from scipy.fftpack import ifftn"
   ]
  },
  {
   "cell_type": "markdown",
   "metadata": {},
   "source": [
    "----\n",
    "# DISCUSSION\n",
    "1. Look in the `fftpack` documentation and discuss what this library does\n",
    "----"
   ]
  },
  {
   "cell_type": "code",
   "execution_count": null,
   "metadata": {},
   "outputs": [],
   "source": [
    "N = 30\n",
    "f, ((ax1, ax2, ax3), (ax4, ax5, ax6)) = plt.subplots(2, 3, sharex='col', sharey='row')\n",
    "\n",
    "xf = np.zeros((N,N))\n",
    "\n",
    "xf[0, 5]   = 1\n",
    "xf[0, N-5] = 1\n",
    "\n",
    "Z = ifftn(xf)\n",
    "\n",
    "ax1.imshow(xf, cmap=cm.Reds)\n",
    "ax4.imshow(np.real(Z), cmap=cm.gray)\n",
    "\n",
    "xf = np.zeros((N, N))\n",
    "xf[5, 0]   = 1\n",
    "xf[N-5, 0] = 1\n",
    "\n",
    "Z = ifftn(xf)\n",
    "\n",
    "ax2.imshow(xf, cmap=cm.Reds)\n",
    "ax5.imshow(np.real(Z), cmap=cm.gray)\n",
    "\n",
    "xf = np.zeros((N, N))\n",
    "xf[5, 10]     = 1\n",
    "xf[N-5, N-10] = 1\n",
    "\n",
    "Z = ifftn(xf)\n",
    "\n",
    "ax3.imshow(xf, cmap=cm.Reds)\n",
    "ax6.imshow(np.real(Z), cmap=cm.gray)\n",
    "\n",
    "plt.show()"
   ]
  },
  {
   "cell_type": "markdown",
   "metadata": {},
   "source": [
    "2-D Fourier Transforms are used in image processing. They are used to see peaks of spacial frequencies of repeated texture in images such as finger prints!"
   ]
  },
  {
   "cell_type": "markdown",
   "metadata": {},
   "source": [
    "----\n",
    "# DISCUSSION\n",
    "1. What happens when you change the spacing of the pixels?\n",
    "1. What happens when you add more?\n",
    "----"
   ]
  },
  {
   "cell_type": "markdown",
   "metadata": {},
   "source": [
    "## Examples using wav files\n",
    "\n",
    "Downloaded wav files from [here](http://www.wavsource.com/sfx/sfx3.htm).\n",
    "More websites available to get wav files [here](https://www.thefreesite.com/Free_Sounds/Free_WAVs/)\n",
    "Also [here](https://www.audiocheck.net/audiofrequencysignalgenerator_sinetone.php)"
   ]
  },
  {
   "cell_type": "markdown",
   "metadata": {},
   "source": [
    "Think about a mechanic who takes a sound sample of an engine and then relies on a machine to analyze that sample, looking for potential engine problems. The diagnostic can find some problems and visual inspection can find others, but sometimes the sound of an engine reveals issues that you can’t find in any other way."
   ]
  },
  {
   "cell_type": "markdown",
   "metadata": {},
   "source": [
    "### Importing and manipulating WAV files"
   ]
  },
  {
   "cell_type": "code",
   "execution_count": null,
   "metadata": {},
   "outputs": [],
   "source": [
    "from scipy.io import wavfile as wav"
   ]
  },
  {
   "cell_type": "markdown",
   "metadata": {},
   "source": [
    "What does this do? What are the blue lines at the bottom?"
   ]
  },
  {
   "cell_type": "markdown",
   "metadata": {},
   "source": [
    "According to [the FFT documentation from `numpy`](https://docs.scipy.org/doc/numpy-1.15.0/reference/routines.fft.html):\n",
    "\n",
    "> If `A = fft(a, n)`, then `A[0]` contains the zero-frequency term (the sum of the signal), which is always purely real for real inputs. Then `A[1:n/2]` contains the positive-frequency terms, and `A[n/2+1:]` contains the negative-frequency terms, in order of decreasingly negative frequency. For an even number of input points, `A[n/2]` represents both positive and negative Nyquist frequency, and is also purely real for real input. For an odd number of input points, `A[(n-1)/2]` contains the largest positive frequency, while `A[(n+1)/2]` contains the largest negative frequency. The routine `np.fft.fftfreq(n)` returns an array giving the frequencies of corresponding elements in the output. The routine `np.fft.fftshift(A)` shifts transforms and their frequencies to put the zero-frequency components in the middle, and `np.fft.ifftshift(A)` undoes that shift.\n",
    "\n",
    "> When the input a is a time-domain signal and `A = fft(a)`, `np.abs(A)` is its amplitude spectrum and `np.abs(A)**2` is its power spectrum. The phase spectrum is obtained by `np.angle(A)`.\n"
   ]
  },
  {
   "cell_type": "markdown",
   "metadata": {},
   "source": [
    "Let's read in the waveforms from the `WAV` files:"
   ]
  },
  {
   "cell_type": "code",
   "execution_count": null,
   "metadata": {},
   "outputs": [],
   "source": [
    "rate_ocean, data_ocean = wav.read('ocean.wav')\n",
    "rate_phone, data_phone = wav.read('sin_1kHz.wav')\n",
    "#rate_phone, data_phone = wav.read('Tuning-fork-mod.wav')\n",
    "\n",
    "print(\"Sampling rate ocean: \" + str(rate_ocean) + \" [samples/s]\")\n",
    "print(\"Sampling rate phone: \" + str(rate_phone) + \" [samples/s]\")\n",
    "\n",
    "plt.magnitude_spectrum(data_phone, Fs=rate_phone, scale='dB', color='C1')\n",
    "plt.xlim(0,4000)"
   ]
  },
  {
   "cell_type": "markdown",
   "metadata": {},
   "source": [
    "Compute the FFT "
   ]
  },
  {
   "cell_type": "code",
   "execution_count": null,
   "metadata": {},
   "outputs": [],
   "source": [
    "# Compute the fast Fourier transforms of the waveforms\n",
    "fft_out_ocean = fft(data_ocean)\n",
    "fft_out_phone = fft(data_phone)\n",
    "\n",
    "# Figure out how many samples total we have\n",
    "len_ocean = len(fft_out_ocean)\n",
    "len_phone = len(fft_out_phone)\n",
    "\n",
    "# Amplitudes\n",
    "amp_ocean = 2.0/len_ocean * np.abs(fft_out_ocean[:len_ocean//2])\n",
    "amp_phone = 2.0/len_phone * np.abs(fft_out_phone[:len_phone//2])"
   ]
  },
  {
   "cell_type": "code",
   "execution_count": null,
   "metadata": {},
   "outputs": [],
   "source": [
    "fig,axes = plt.subplots(ncols=2, nrows=4, figsize=(20,18))\n",
    "\n",
    "colorA = 'C1'\n",
    "colorB = 'C2'\n",
    "\n",
    "# Plot the waveforms themselves\n",
    "axes[0, 0].plot(data_ocean, color=colorA)\n",
    "axes[0, 0].set_title(\"Ocean waveform\")\n",
    "axes[0, 0].set_xlabel(\"Time [s]\")\n",
    "\n",
    "axes[0, 1].plot(data_phone, color=colorB)\n",
    "axes[0, 1].set_title(\"Phone ringing waveform\")\n",
    "axes[0, 1].set_xlabel(\"Time [s]\")\n",
    "#axes[0, 1].set_xlim(0, 11000)\n",
    "\n",
    "# Plot the amplitude of the Fourier components\n",
    "axes[1, 0].semilogy(amp_ocean, color=colorA)\n",
    "axes[1, 0].set_xlabel(\"Frequency\")\n",
    "axes[1, 0].set_ylabel(\"Amplitude\")\n",
    "\n",
    "axes[1, 1].semilogy(amp_phone, color=colorB)\n",
    "axes[1, 1].set_xlabel(\"Frequency\")\n",
    "axes[1, 1].set_ylabel(\"Amplitude\")\n",
    "axes[1, 1].set_xlim(0, 2000)\n",
    "\n",
    "# Plot the amplitudes of the waveforms as a function of the amplitude of the Fourier components\n",
    "axes[2, 0].plot(data_ocean, np.abs(fft_out_ocean), color=colorA)\n",
    "axes[2, 0].set_xlabel(\"Waveform data\")\n",
    "axes[2, 0].set_ylabel(\"Amplitude (linear)\")\n",
    "\n",
    "axes[3, 0].semilogy(data_ocean, np.abs(fft_out_ocean), color=colorA)\n",
    "axes[3, 0].set_xlabel(\"Waveform data\")\n",
    "axes[3, 0].set_ylabel(\"Amplitude (log)\")\n",
    "\n",
    "# Plot the amplitudes of the waveforms as a function of the amplitude of the Fourier components\n",
    "axes[2, 1].plot(data_phone, np.abs(fft_out_phone), color=colorB)\n",
    "axes[2, 1].set_xlabel(\"Waveform data\")\n",
    "axes[2, 1].set_ylabel(\"Amplitude (linear)\")\n",
    "\n",
    "axes[3, 1].semilogy(data_phone, np.abs(fft_out_phone), color=colorB)\n",
    "axes[3, 1].set_xlabel(\"Waveform data\")\n",
    "axes[3, 1].set_ylabel(\"Amplitude (log)\")\n",
    "\n",
    "\n",
    "#plt.tight_layout()"
   ]
  },
  {
   "cell_type": "markdown",
   "metadata": {},
   "source": [
    "This code reads a .wav file and solves the Fourier transform! \n",
    "The output displays the strongest detected frequencies over time. The blue lines at the bottom are the extra noise of the signal. "
   ]
  },
  {
   "cell_type": "markdown",
   "metadata": {},
   "source": [
    "## Digital Image Processing: Making an image blurry using FFT\n",
    "\n",
    "Here is a \"clear\" example on how 2-D FFT applictions are applied to images. "
   ]
  },
  {
   "cell_type": "code",
   "execution_count": null,
   "metadata": {},
   "outputs": [],
   "source": [
    "img = plt.imread('lion.png')\n",
    "plt.figure()\n",
    "plt.imshow(img)"
   ]
  },
  {
   "cell_type": "code",
   "execution_count": null,
   "metadata": {},
   "outputs": [],
   "source": [
    "# First a 1-D  Gaussian\n",
    "t = np.linspace(-10, 10, 30)\n",
    "bump = np.exp(-0.1*t**2)\n",
    "bump /= np.trapz(bump) # normalize the integral to 1\n",
    "\n",
    "# make a 2-D kernel out of it\n",
    "kernel = bump[:, np.newaxis] * bump[np.newaxis, :]\n"
   ]
  },
  {
   "cell_type": "markdown",
   "metadata": {},
   "source": [
    "Padded fourier transform, with the same shape as the image\n",
    "\n",
    "We use `scipy.signal.fftpack.fft2` to have a 2D FFT"
   ]
  },
  {
   "cell_type": "code",
   "execution_count": null,
   "metadata": {},
   "outputs": [],
   "source": [
    "from scipy import fftpack\n",
    "\n",
    "kernel_ft = fftpack.fft2(kernel, shape=img.shape[:2], axes=(0, 1))\n",
    "\n",
    "img_ft = fftpack.fft2(img, axes=(0, 1))\n",
    "\n",
    "img2_ft = kernel_ft[:, :, np.newaxis] * img_ft # the 'newaxis' is to match to color direction\n",
    "img2 = fftpack.ifft2(img2_ft, axes=(0, 1)).real\n",
    "\n",
    "img2 = np.clip(img2, 0, 1) # clip values to range\n",
    "\n",
    "# plot \n",
    "plt.figure()\n",
    "plt.imshow(img2)\n"
   ]
  },
  {
   "cell_type": "code",
   "execution_count": null,
   "metadata": {},
   "outputs": [],
   "source": []
  }
 ],
 "metadata": {
  "kernelspec": {
   "display_name": "Python 3",
   "language": "python",
   "name": "python3"
  },
  "language_info": {
   "codemirror_mode": {
    "name": "ipython",
    "version": 3
   },
   "file_extension": ".py",
   "mimetype": "text/x-python",
   "name": "python",
   "nbconvert_exporter": "python",
   "pygments_lexer": "ipython3",
   "version": "3.7.4"
  }
 },
 "nbformat": 4,
 "nbformat_minor": 2
}
