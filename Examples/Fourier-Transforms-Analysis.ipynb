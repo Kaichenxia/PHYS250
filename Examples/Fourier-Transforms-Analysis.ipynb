{
 "cells": [
  {
   "cell_type": "markdown",
   "metadata": {},
   "source": [
    "# Fourier Transforms and Analysis\n",
    "\n",
    "In the last lecture, we discussed the basics of Fourier Series and looked into computing the coefficients of trigonometric decomposition for a few simple waveforms (square and sawtooth). \n",
    "\n",
    "Today, we will make the connections between Fourier Series and Fourier Transforms, discuss and evaluate the Discrete and Fast Fourier Tranforms (DFT and FFT, respectively), and look at a few applications in context.\n",
    "\n",
    "Table of Contents\n",
    "1. [History](#History)\n",
    "1. [Square wave](#square-wave)\n",
    "   1. [Boilerplate stuff](#Boilerplate-stuff)\n",
    "   1. [Coding the Fourier Series](#Coding-the-Fourier-Series)\n",
    "   1. [Plotting the SquareFourier series](#Plotting-the-SquareFourier-series)\n",
    "1. [Fourier transforms](#Fourier-transforms)\n",
    "   1. [Discrete Fast Fourier Transform](#Discrete-Fast-Fourier-transform)\n",
    "   1. [Sampling simple sin function](#Sampling-the-temperature-of-a-bar-of-lengh-L)"
   ]
  },
  {
   "cell_type": "markdown",
   "metadata": {},
   "source": [
    "## History\n",
    "\n",
    "Fourier was actually investigating the Heat Equation when he developed the revolutionary approach that now bears his name.\n",
    "\n",
    "From [Wikipedia](https://en.wikipedia.org/wiki/Joseph_Fourier):\n",
    "\n",
    "> In 1822 Fourier published his work on heat flow in Théorie analytique de la chaleur (The Analytical Theory of Heat), in which he based his reasoning on Newton's law of cooling, namely, that the flow of heat between two adjacent molecules is proportional to the extremely small difference of their temperatures.\n",
    "\n",
    "He determined that the solution can be expanded in terms of sines and cosines:\n",
    "\n",
    "$$\n",
    "f(x) = \\frac{a_0}{2} + \\sum_{n=1}^{\\infty} a_n \\cos(nx) + b_n \\sin(nx)\n",
    "$$\n"
   ]
  },
  {
   "cell_type": "markdown",
   "metadata": {},
   "source": [
    "## Square wave\n",
    "\n",
    "Let's use our result from last time to look at this in more detail:\n",
    "\n",
    "$$\n",
    "a_n =\\frac{2}{n\\pi}\\sin \\left(n \\omega_0 \\frac{\\pi}{2} \\right)\n",
    "$$\n",
    "\n",
    "What we want is the equivalent of the following:"
   ]
  },
  {
   "cell_type": "code",
   "execution_count": null,
   "metadata": {},
   "outputs": [],
   "source": [
    "from IPython.display import Image\n",
    "Image(url='Fourier_Transform.gif')  "
   ]
  },
  {
   "cell_type": "markdown",
   "metadata": {},
   "source": [
    "---\n",
    "# DISCUSSION\n",
    "\n",
    "1. How many terms will we need to accurately approximate the square wave that we discussed last time?\n",
    "\n",
    "---"
   ]
  },
  {
   "cell_type": "markdown",
   "metadata": {},
   "source": [
    "### Boilerplate stuff\n",
    "\n",
    "To find out, let's first load the libraries as usual"
   ]
  },
  {
   "cell_type": "code",
   "execution_count": null,
   "metadata": {},
   "outputs": [],
   "source": [
    "%matplotlib inline\n",
    "import numpy as np\n",
    "import scipy.signal as signal    # Notice this one is new!\n",
    "import matplotlib.pyplot as plt\n",
    "from matplotlib import cm as colormap\n",
    "from mpl_toolkits.mplot3d import Axes3D\n",
    "import math\n",
    "import cmath"
   ]
  },
  {
   "cell_type": "markdown",
   "metadata": {},
   "source": [
    "And define some useful variables"
   ]
  },
  {
   "cell_type": "code",
   "execution_count": null,
   "metadata": {},
   "outputs": [],
   "source": [
    "pi = np.pi\n",
    "x  = np.linspace(-4*pi, 4*pi, 1000)"
   ]
  },
  {
   "cell_type": "markdown",
   "metadata": {},
   "source": [
    "### Coding the Fourier Series\n",
    "\n",
    "Now, let's adapt the \"Fourier Function\" that we had before for the sawtooth wave, but now for the square wave:\n",
    "\n",
    "Recall, that we determined that the __sawtooth wave__ Fourier Series looks like this:\n",
    "\n",
    "$$\n",
    "\\begin{align}\n",
    "s(x)&={\\frac {a_{0}}{2}}+\\sum _{m=1}^{\\infty }\\left[a_{m}\\cos \\left(mx\\right)+b_{n}\\sin \\left(mx\\right)\\right]\\\\\n",
    "&={\\frac {2}{\\pi }}\\sum _{m=1}^{\\infty }{\\frac {(-1)^{m+1}}{m}}\\sin(mx),\\quad \\mathrm {for} \\quad x-\\pi \\notin 2\\pi \\mathbf {Z} \n",
    "\\end{align}\n",
    "$$"
   ]
  },
  {
   "cell_type": "code",
   "execution_count": null,
   "metadata": {},
   "outputs": [],
   "source": [
    "def SawtoothFourier(M,T,t):                  # M = number waves, T = period, t = time\n",
    "    sumy  = 0                                # initialize the output                 \n",
    "    omega = 2.*np.pi/T                       # Omega = 2pi/T\n",
    "    sign  = 1                                # Sign of the coefficient                                     \n",
    "    for m in range(1,M):                     # Number of terms to include\n",
    "        sumy += (sign/m) * np.sin(m*omega*t) # value of the function after adding next term                     \n",
    "        sign = -sign                         # swap the sign of the coefficient    \n",
    "    sumy = (2.0/np.pi)*sumy                  # Common factor in front of the sum\n",
    "    return sumy"
   ]
  },
  {
   "cell_type": "markdown",
   "metadata": {},
   "source": [
    "--- \n",
    "# DISCUSSION\n",
    "\n",
    "1. Code up your own `SquareFourier` based on this example\n",
    "1. How many terms do we need to get the same picture as from Wikipedia?\n",
    "---"
   ]
  },
  {
   "cell_type": "code",
   "execution_count": null,
   "metadata": {},
   "outputs": [],
   "source": [
    "def SquareFourier(M,T,t):                                         # M = number modes to include, T = period, t = time\n",
    "    sumy  = 0                                                     # initialize the output                 \n",
    "    omega = 2.*pi/T  # Omega = 2pi/T\n",
    "    coeffarray = [(0,0.5)]\n",
    "    for m in range(1,M):                                         # Loop over only odd modes\n",
    "        coeff = (2./(m*pi))*np.sin(m*omega*pi/2.)\n",
    "        coeffarray.append((m,coeff))\n",
    "        sumy += coeff*np.cos(m*t)                           # value of the function after adding next term   \n",
    "    sumy += 0.5\n",
    "    return sumy, coeffarray"
   ]
  },
  {
   "cell_type": "markdown",
   "metadata": {},
   "source": [
    "### Plotting the SquareFourier series\n",
    "\n",
    "We can reuse basically everything from before|"
   ]
  },
  {
   "cell_type": "code",
   "execution_count": null,
   "metadata": {},
   "outputs": [],
   "source": [
    "plt.axhline(0, color='gray', lw=1)\n",
    "\n",
    "squarewave = 0.5 + 0.5 * signal.square(x + pi/2)\n",
    "\n",
    "plt.plot(x, squarewave, lw=1.5, label=r'$f(x)=\\frac{1}{2} + \\sum_{n=1,3,5\\ldots}^{\\infty}a_n \\cos(nx)$')\n",
    "\n",
    "s, coeffs = SquareFourier(12, 2*pi, x)   \n",
    "lines, = plt.plot(x, s, lw=1, color='red')\n",
    "\n",
    "plt.yticks([-1, 0, 1, 2], ['$-1$', '$0$', '$1$', '$2$'])\n",
    "plt.xticks([-4*pi, -3*pi, -2*pi, -1*pi, 0, pi, 2*pi, 3*pi, 4*pi], [r'$-4\\pi$', r'$-3\\pi$', r'$-2\\pi$', r'$-\\pi$', r'$0$', r'$\\pi$', r'$2\\pi$', r'$3\\pi$', r'$4\\pi$'])\n",
    "plt.xlim(-4*pi, 4*pi)\n",
    "plt.ylim(-0.5, 2)\n",
    "plt.rcParams.update({'font.size': 16})\n",
    "plt.title('Fourier Series of a Square Wave', fontsize=14)\n",
    "plt.xlabel('$x$')\n",
    "plt.ylabel('Amplitude')\n",
    "plt.legend(fontsize=16, fancybox=True, loc='best')\n",
    "plt.show()"
   ]
  },
  {
   "cell_type": "code",
   "execution_count": null,
   "metadata": {},
   "outputs": [],
   "source": [
    "print(coeffs)\n",
    "plt.plot(coeffs)\n",
    "plt.ylim(-0.5, 2)"
   ]
  },
  {
   "cell_type": "markdown",
   "metadata": {},
   "source": [
    "## Fourier transforms\n",
    "\n",
    "Let's take what we discussed and use it!"
   ]
  },
  {
   "cell_type": "markdown",
   "metadata": {},
   "source": [
    "### Discrete Fast Fourier transform"
   ]
  },
  {
   "cell_type": "code",
   "execution_count": null,
   "metadata": {},
   "outputs": [],
   "source": [
    "def fft(data):\n",
    "    \n",
    "    N = len(data)\n",
    "    if N <= 1:               # transform is trivial\n",
    "        return data\n",
    "\n",
    "    even = fft(data[0::2])\n",
    "    odd  = fft(data[1::2])\n",
    "    \n",
    "    T = [np.exp(-2j*np.pi*k/N)*odd[k] for k in range(N//2)]\n",
    "    \n",
    "    part1 = [even[k] + T[k] for k in range(N//2)]\n",
    "    part2 = [even[k] - T[k] for k in range(N//2)]\n",
    "    \n",
    "    return part1 + part2"
   ]
  },
  {
   "cell_type": "markdown",
   "metadata": {},
   "source": [
    "\n",
    "### Sampling the temperature of a bar of lengh L\n",
    "\n",
    "Suppose you take a bar of length $L$ which is kept at a constant temperature at the ends and you want to measure the temperature at $N$ equally spaced points such that the positions of those points are given by\n",
    "\n",
    "$$\n",
    "x_j = \\frac{L}{N}j\n",
    "$$\n",
    "\n",
    "and enumerated by the index $j$. Since the usual modes of the sinusoid that will provide a solution to the heat equation with fixed end points is given by\n",
    "\n",
    "$$\n",
    "\\sin\\left(\\frac{n \\pi x}{L}\\right)\n",
    "$$\n",
    "\n",
    "We can translate this into a discretized for by replacing the $x \\rightarrow x_j$. Therefore, we can write the function that describes this temperature as a $\\sin$ function:\n",
    "\n",
    "$$\n",
    "f_k = \\sin\\left(\\frac{2\\pi f_n k}{N}\\right)\n",
    "$$"
   ]
  },
  {
   "cell_type": "code",
   "execution_count": null,
   "metadata": {},
   "outputs": [],
   "source": [
    "N = 2048\n",
    "f = 10.0\n",
    "\n",
    "t = np.array( [ float(i) for i in range(N) ])\n",
    "y = np.array( [ math.sin(2*np.pi*f*ti / float(N)) for ti in t] )\n",
    "\n",
    "Y = fft(y)\n",
    "\n",
    "Yre = [ math.sqrt(Y[i].real**2 + Y[i].imag**2) for i in range(N) ]\n",
    "\n",
    "fig, (ax1, ax2) = plt.subplots(ncols=2, figsize=(15, 6))\n",
    "\n",
    "ax1.plot(t, y)\n",
    "ax2.plot(t, Yre)\n",
    "#ax2.set_xlim(498,510)"
   ]
  }
 ],
 "metadata": {
  "kernelspec": {
   "display_name": "Python 3",
   "language": "python",
   "name": "python3"
  },
  "language_info": {
   "codemirror_mode": {
    "name": "ipython",
    "version": 3
   },
   "file_extension": ".py",
   "mimetype": "text/x-python",
   "name": "python",
   "nbconvert_exporter": "python",
   "pygments_lexer": "ipython3",
   "version": "3.12.6"
  }
 },
 "nbformat": 4,
 "nbformat_minor": 4
}
