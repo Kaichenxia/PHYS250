{
 "cells": [
  {
   "cell_type": "code",
   "execution_count": 1,
   "metadata": {},
   "outputs": [],
   "source": [
    "# Import the usual numpy and matplotlib libraries for numerical operations and plotting\n",
    "import numpy as np\n",
    "import matplotlib.pyplot as plt"
   ]
  },
  {
   "cell_type": "code",
   "execution_count": null,
   "metadata": {},
   "outputs": [],
   "source": [
    "# defining the number of steps \n",
    "nsteps = 100000"
   ]
  },
  {
   "cell_type": "code",
   "execution_count": null,
   "metadata": {},
   "outputs": [],
   "source": [
    "# Make a function that does all of this for us    \n",
    "def randomWalk(nsteps,debug=False):    \n",
    "    \n",
    "    #creating two array for containing x and y coordinate \n",
    "    #of size equals to the number of size and filled up with 0's \n",
    "    x = np.zeros(nsteps) \n",
    "    y = np.zeros(nsteps) \n",
    "    \n",
    "    # Fill the x and y coordinates with random variables \n",
    "    for i in range(1, nsteps): \n",
    "        val = np.random.randint(1, 5) \n",
    "        \n",
    "        # Always good to build into your code some debugging options\n",
    "        if (debug and i<100): print(\"Random number = \" + str(val))\n",
    "        \n",
    "        \n",
    "        if val == 1: \n",
    "            x[i] = x[i - 1] + 1\n",
    "            y[i] = y[i - 1] \n",
    "        elif val == 2: \n",
    "            x[i] = x[i - 1] - 1\n",
    "            y[i] = y[i - 1] \n",
    "        elif val == 3: \n",
    "            x[i] = x[i - 1] \n",
    "            y[i] = y[i - 1] + 1\n",
    "        else: \n",
    "            x[i] = x[i - 1] \n",
    "            y[i] = y[i - 1] - 1\n",
    "    \n",
    "    # Return the array of x and y values\n",
    "    return [x,y]\n",
    "    "
   ]
  },
  {
   "cell_type": "code",
   "execution_count": null,
   "metadata": {},
   "outputs": [],
   "source": [
    "def efficientWalk(nsteps,debug=False):    \n",
    "    \n",
    "    # Initialize an array with `nsteps` random integers -1 or 1\n",
    "    #   -> begin with an array of length N with random integers between 0 (inclusive) and 2 (exclusive)\n",
    "    #   -> multiply by two and subtract 1  changes the random integers 0 and 1 to -1 and 1 respectively\n",
    "    randomized_steps = np.random.randint(0,2,(nsteps,2)) * 2 - 1  \n",
    "    \n",
    "    # Sum up the randomized steps in both x and y separately\n",
    "    walk = np.cumsum(randomized_steps, axis=0)\n",
    "    \n",
    "    x = walk[:,0]  # slicing to extract the 0 column on the first axis\n",
    "    y = walk[:,1]  # slicing to extract the 1 column on the first axis\n",
    "    \n",
    "    # Return the array of values\n",
    "    return [x,y]\n"
   ]
  },
  {
   "cell_type": "markdown",
   "metadata": {},
   "source": [
    "### Profiling \n",
    "\n",
    "Let’s use the profiling tool `%timeit` to look at a some examples of the speedup possible when using `python` and `numpy` more efficiently.\n",
    "\n",
    "To quote the [blog from the Kinder & Nelson textbook](http://physicalmodelingwithpython.blogspot.com/2015/09/speeding-up-python-part-1-profiling.html),\n",
    "\n",
    "\n",
    "> Before proceeding, I offer this advice: If your program already runs fast enough, \n",
    "> do not bother with profiling and optimization. There are an endless number of \n",
    "> interesting problems waiting to be solved, and the question of how to improve \n",
    "> the performance of a particular program by 20 percent is probably not one of them.\n",
    "\n",
    "\n",
    "#### The `%timeit` Command\n",
    "\n",
    "Try the same operations as before, but use the %timeit command instead of %time:\n",
    "\n",
    "~~~~\n",
    "%timeit 2**100\n",
    "%timeit pow(2,100)\n",
    "~~~~\n",
    "\n",
    "The output should be something like this:\n",
    "\n",
    "~~~~\n",
    "$ %timeit 2**100\n",
    "10000000 loops, best of 3: 45.4 ns per loop\n",
    "~~~~\n",
    "\n",
    "This means that Python inserted the command `2**100` inside a loop and carried out the operation ten million times. It evaluated 3 such loops. It recorded the total time for each loop, and then divided by 10 million. The best result from the 3 loops was an average execution time of 45.4 ns. "
   ]
  },
  {
   "cell_type": "code",
   "execution_count": 2,
   "metadata": {},
   "outputs": [
    {
     "name": "stdout",
     "output_type": "stream",
     "text": [
      "242 ms ± 24.2 ms per loop (mean ± std. dev. of 7 runs, 1 loop each)\n"
     ]
    }
   ],
   "source": [
    "%%timeit \n",
    "#debug=True    \n",
    "walk = randomWalk(nsteps)\n",
    "#print(walk)\n",
    "#plt.plot(walk[0],walk[1],label= 'Random walk')\n",
    "#plt.title(\"Random Walk ($n = \" + str(nsteps) + \"$ steps)\") \n",
    "#plt.axis([-10,10,-10,10])\n",
    "#plt.show()"
   ]
  },
  {
   "cell_type": "code",
   "execution_count": 3,
   "metadata": {},
   "outputs": [
    {
     "name": "stdout",
     "output_type": "stream",
     "text": [
      "1.43 ms ± 3.97 µs per loop (mean ± std. dev. of 7 runs, 1000 loops each)\n"
     ]
    }
   ],
   "source": [
    "%%timeit\n",
    "\n",
    "walk2 = efficientWalk(nsteps)\n",
    "#print(walk)\n",
    "#plt.plot(walk2[0],walk2[1],label = 'Efficient random walk')\n",
    "#plt.title(\"Efficient random walk ($n = \" + str(nsteps) + \"$ steps)\") \n",
    "#plt.axis([-10,10,-10,10])\n",
    "#plt.show()"
   ]
  },
  {
   "cell_type": "code",
   "execution_count": null,
   "metadata": {},
   "outputs": [],
   "source": []
  }
 ],
 "metadata": {
  "kernelspec": {
   "display_name": "Python 3",
   "language": "python",
   "name": "python3"
  },
  "language_info": {
   "codemirror_mode": {
    "name": "ipython",
    "version": 3
   },
   "file_extension": ".py",
   "mimetype": "text/x-python",
   "name": "python",
   "nbconvert_exporter": "python",
   "pygments_lexer": "ipython3",
   "version": "3.5.2"
  }
 },
 "nbformat": 4,
 "nbformat_minor": 2
}
