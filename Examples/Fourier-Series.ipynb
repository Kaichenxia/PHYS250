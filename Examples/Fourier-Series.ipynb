{
 "cells": [
  {
   "cell_type": "markdown",
   "metadata": {},
   "source": [
    "# Fourier series, transforms and analysis"
   ]
  },
  {
   "cell_type": "markdown",
   "metadata": {},
   "source": [
    "## Fourier series\n",
    "\n",
    "As you may have heard in a variety of contexts (e.g. PHYS 133!) we can decompose any periodic function or periodic signal into the weighted sum of a (possibly infinite) set of simple oscillating functions, namely sines and cosines (or, equivalently, complex exponentials). \n",
    "\n",
    "$$\n",
    "f(x) = \\frac{a_0}{2} + \\sum_{n=1}^{\\infty} a_n \\cos(nx) + b_n \\sin(nx)\n",
    "$$\n",
    "\n",
    "This is possible because the trigonometric functions for a *set of complete, orthogonal basis vectors* that span the space.\n",
    "\n",
    "\n",
    "Outline:\n",
    "1. [Square wave](#Square-wave-centered-at-$x=0$)\n",
    "1. [Calculating coefficients](#Calculating-the-coefficients)\n",
    "1. [Hands on with sawtooth](#Hand's-on-with-the-sawtooth-wave)"
   ]
  },
  {
   "cell_type": "markdown",
   "metadata": {},
   "source": [
    "---\n",
    "# DISCUSSION\n",
    "\n",
    "1. Discuss with your neighbor 3 other functions that you *could* use instead?\n",
    "1. Where have you used these functions before?\n",
    "\n",
    "---"
   ]
  },
  {
   "cell_type": "markdown",
   "metadata": {},
   "source": [
    "# Square wave centered at $x=0$\n",
    "\n",
    "We will start with a square wave centered at $x=0$. This is the same kind of wave you would find in a function generator, for example."
   ]
  },
  {
   "cell_type": "code",
   "execution_count": null,
   "metadata": {},
   "outputs": [],
   "source": [
    "%matplotlib inline\n",
    "import numpy as np\n",
    "import scipy.signal as signal    # Notice this one is new!\n",
    "import matplotlib.pyplot as plt"
   ]
  },
  {
   "cell_type": "markdown",
   "metadata": {},
   "source": [
    "We will use these a lot so just defining them here might be useful"
   ]
  },
  {
   "cell_type": "code",
   "execution_count": null,
   "metadata": {},
   "outputs": [],
   "source": [
    "pi = np.pi\n",
    "x  = np.linspace(-3*pi, 3*pi, 1000)"
   ]
  },
  {
   "cell_type": "markdown",
   "metadata": {},
   "source": [
    "Next we want to make a very simple plot, so let's set it up"
   ]
  },
  {
   "cell_type": "code",
   "execution_count": null,
   "metadata": {},
   "outputs": [],
   "source": [
    "plt.axhline(0, color='gray', lw=1)\n",
    "\n",
    "squarewave = 0.5 + 0.5 * signal.square(x + pi/2)\n",
    "\n",
    "plt.plot(x, squarewave, lw=1.5, label=r'$f(x)=\\frac{1}{2} + \\sum_{n=1,3,5\\ldots}^{\\infty}a_n \\cos(nx)$')\n",
    "\n",
    "plt.yticks([-1, 0, 1, 2], ['$-1$', '$0$', '$1$', '$2$'])\n",
    "plt.xticks([-3*pi, -2*pi, -1*pi, 0, pi, 2*pi, 3*pi], [r'$-3\\pi$', r'$-2\\pi$', r'$-\\pi$', '$0$', r'$\\pi$', r'$2\\pi$', r'$3\\pi$'])\n",
    "plt.xlim(-3*pi, 3*pi)\n",
    "plt.ylim(-0.5, 2)\n",
    "plt.rcParams.update({'font.size': 16})\n",
    "plt.title('Fourier Series of a Square Wave', fontsize=14)\n",
    "plt.xlabel('$x$')\n",
    "plt.legend(fontsize=16, fancybox=True, loc='best')\n",
    "plt.show()"
   ]
  },
  {
   "cell_type": "markdown",
   "metadata": {},
   "source": [
    "# Calculating the coefficients\n",
    "\n",
    "But we didn't show how to calculate $a_n$! This becomes slightly more obvious if we change our Fourier Series Equation\n",
    "\n",
    "$$\n",
    "f(x) = \\frac{a_0}{2} + \\sum_{n=1}^{\\infty} a_n \\cos(n \\omega_0 x) + b_n \\sin(n \\omega_o x)\n",
    "$$\n",
    "\n",
    "where\n",
    "\n",
    "$$\n",
    "\\omega_0 =\\frac{2\\pi}{T}\n",
    "$$\n",
    "\n",
    "and $T$ is the fundamental period (for the square wave above, $T=2\\pi$)"
   ]
  },
  {
   "cell_type": "markdown",
   "metadata": {},
   "source": [
    "The equation for $a_n$ becomes:\n",
    "\n",
    "$$\n",
    "a_n = \\frac{2}{T}\\int_{-T/2}^{T/2} f(x)\\cos(n \\omega_0 x)dx\n",
    "$$"
   ]
  },
  {
   "cell_type": "markdown",
   "metadata": {},
   "source": [
    "### Simplifying the expression\n",
    "\n",
    "For the square wave above, the limits are only $-T/4$ to $T/4$ because $f(x)=0$ for the rest of the wavelength."
   ]
  },
  {
   "cell_type": "markdown",
   "metadata": {},
   "source": [
    "$$\n",
    "a_n = \\frac{2}{T} \\int_{-T/4}^{T/4}\\cos(n \\omega_0 x)dx\n",
    "$$"
   ]
  },
  {
   "cell_type": "markdown",
   "metadata": {},
   "source": [
    "Next, because $\\cos(nx)$ is even, we can reduce the limits to $0$ to $T/4$ and multiply by $2$"
   ]
  },
  {
   "cell_type": "markdown",
   "metadata": {},
   "source": [
    "$$\n",
    "a_n = \\frac{4}{T} \\int_{0}^{T/4}\\cos(n \\omega_0 x)dx\n",
    "$$"
   ]
  },
  {
   "cell_type": "markdown",
   "metadata": {},
   "source": [
    "$$\n",
    "a_n = \\frac{4}{n \\omega_0 T} \\sin(n \\omega_0 x)\\bigg|^{T/4}_0  =\\frac{4}{n \\omega_0 T}\\sin \\left( n\\omega_0 \\frac{T}{4} \\right)\n",
    "$$"
   ]
  },
  {
   "cell_type": "markdown",
   "metadata": {},
   "source": [
    "$$\n",
    "a_n =\\frac{2}{n\\pi}\\sin \\left(n \\omega_0 \\frac{\\pi}{2} \\right)\n",
    "$$"
   ]
  },
  {
   "cell_type": "code",
   "execution_count": null,
   "metadata": {},
   "outputs": [],
   "source": [
    "plt.axhline(0, color='gray', lw=1)\n",
    "plt.plot(x, 2/(x*pi) * np.sin(x * pi/2), '--', label=r'$\\frac{2}{n\\pi}\\sin \\left( n\\omega_0 \\frac{\\pi}{2} \\right)$')\n",
    "\n",
    "an = [2/(n*pi) * np.sin(n * pi/2) for n in range(1, 10)]\n",
    "\n",
    "plt.plot(0, 1, 'bo')\n",
    "plt.plot(range(1, 10), an, 'bo')\n",
    "\n",
    "plt.yticks([-1, 0, 1, 2], ['$-1$', '$0$', '$1$', '$2$'])\n",
    "plt.xticks(list(range(9)),\n",
    "          [r'$0$', r'$\\omega_0$', r'$2\\omega_0$', r'$3\\omega_0$', r'$4\\omega_0$', \n",
    "           r'$5\\omega_0$', r'$6\\omega_0$', r'$7\\omega_0$', r'$8\\omega_0$'])\n",
    "\n",
    "plt.xlim(0, 8)\n",
    "plt.ylim(-0.5, 1.5)\n",
    "plt.legend(fontsize=16, fancybox=True, loc='best')\n",
    "plt.show()"
   ]
  },
  {
   "cell_type": "markdown",
   "metadata": {},
   "source": [
    "---\n",
    "\n",
    "# DISCUSSION\n",
    "\n",
    "1. What if we make the squares farther apart by making $T=4\\pi$?\n",
    "1. What does the new fundamental frequency become?\n",
    "\n",
    "---"
   ]
  },
  {
   "cell_type": "code",
   "execution_count": null,
   "metadata": {},
   "outputs": [],
   "source": [
    "plt.axhline(0, color='gray', lw=1)\n",
    "x = np.linspace(-4*pi, 4*pi, 1000)\n",
    "\n",
    "shortsquarewave = (0.5 + 0.5 * signal.square(x + pi/2)) * (0.5 + 0.5 * signal.square(x/2 + pi/2))\n",
    "\n",
    "plt.plot(x, shortsquarewave, lw=1.5, label=r'$f(x)=\\frac{1}{2} + \\sum_{n=1,3,5\\ldots}^{\\infty}a_n \\cos(nx)$')\n",
    "\n",
    "plt.yticks([-1, 0, 1], ['$-1$', '$0$', '$1$'])\n",
    "plt.xticks([-4*pi, -3*pi, -2*pi, -1*pi, 0, pi, 2*pi, 3*pi, 4*pi],\n",
    "          [r'$-4\\pi$', r'$-3\\pi$', r'$-2\\pi$', r'$-\\pi$', r'$0$', r'$\\pi$', r'$2\\pi$', r'$3\\pi$', r'$4\\pi$'])\n",
    "plt.rcParams.update({'font.size': 16})\n",
    "plt.xlim(-4*pi, 4*pi)\n",
    "plt.ylim(-0.5, 1.5)\n",
    "plt.title('Pulse wave', fontsize=14)\n",
    "plt.legend(fontsize=16, fancybox=True, loc='best')\n",
    "plt.show()"
   ]
  },
  {
   "cell_type": "markdown",
   "metadata": {},
   "source": [
    "The new fundamental frequency becomes $\\omega'_0 =\\omega_0/2$ and the $a_n$ coefficients become\n",
    "\n",
    "$$\n",
    "a_n = \\frac{4}{n\\omega'_0 T} \\sin \\left(n\\omega'_0\\frac{T}{8}\\right)\n",
    "$$"
   ]
  },
  {
   "cell_type": "markdown",
   "metadata": {},
   "source": [
    "$$\n",
    "a_n = \\frac{2}{n\\pi} \\sin \\left(n \\omega'_0 \\frac{\\pi}{2} \\right)\n",
    "$$"
   ]
  },
  {
   "cell_type": "markdown",
   "metadata": {},
   "source": [
    "Since the fundametal frequency is cut in half, the spacing between coefficients are closer, but bound by the same envelope"
   ]
  },
  {
   "cell_type": "code",
   "execution_count": null,
   "metadata": {},
   "outputs": [],
   "source": [
    "plt.axhline(0, color='gray', lw=1)\n",
    "plt.plot(x, 2/(x*pi) * np.sin(x * pi/2), '--')\n",
    "nprime = np.arange(0.5, 10, 0.5)\n",
    "an2 = [2/(n*pi) * np.sin(n * pi/2) for n in nprime]\n",
    "plt.plot(0, 1, 'go')\n",
    "plt.plot(nprime, an2, 'go', label=r\"$\\frac{2}{n\\pi}\\sin \\left( n\\omega_0' \\frac{\\pi}{2} \\right)$\")\n",
    "plt.yticks([-1, 0, 1, 2], ['$-1$', '$0$', '$1$', '$2$'])\n",
    "plt.xticks(list(range(9)),\n",
    "          [r'$0$', r'$\\omega_0$', r'$2\\omega_0$', r'$3\\omega_0$', r'$4\\omega_0$', \n",
    "           r'$5\\omega_0$', r'$6\\omega_0$', r'$7\\omega_0$', r'$8\\omega_0$'])\n",
    "plt.xlim(0, 8)\n",
    "plt.ylim(-0.5, 1.5)\n",
    "plt.legend(fontsize=16, fancybox=True, loc='best')\n",
    "plt.show()"
   ]
  },
  {
   "cell_type": "markdown",
   "metadata": {},
   "source": [
    "### If $\\omega_0' \\rightarrow \\omega_0/10$"
   ]
  },
  {
   "cell_type": "code",
   "execution_count": null,
   "metadata": {},
   "outputs": [],
   "source": [
    "plt.axhline(0, color='gray', lw=1)\n",
    "plt.plot(x, 2/(x*pi) * np.sin(x * pi/2), '--')\n",
    "n = 0.1\n",
    "nprime = np.arange(n, 10, n)\n",
    "an2 = [2/(n*pi) * np.sin(n * pi/2) for n in nprime]\n",
    "plt.plot(0, 1, 'go')\n",
    "plt.plot(nprime, an2, 'go', label=r\"$\\frac{2}{n\\pi}\\sin \\left( n\\omega_0' \\frac{\\pi}{2} \\right)$\")\n",
    "plt.yticks([-1, 0, 1, 2], ['$-1$', '$0$', '$1$', '$2$'])\n",
    "plt.xticks(list(range(9)),\n",
    "          [r'$0$', r'$\\omega_0$', r'$2\\omega_0$', r'$3\\omega_0$', r'$4\\omega_0$', \n",
    "           r'$5\\omega_0$', r'$6\\omega_0$', r'$7\\omega_0$', r'$8\\omega_0$'])\n",
    "plt.xlim(0, 8)\n",
    "plt.ylim(-0.5, 1.5)\n",
    "plt.legend(fontsize=16, fancybox=True, framealpha=0.3, loc='best')\n",
    "plt.show()"
   ]
  },
  {
   "cell_type": "markdown",
   "metadata": {},
   "source": [
    "### The Fourier Series becomes the Fourier Transform when\n",
    "$$\n",
    "T \\rightarrow \\infty, \\qquad \\omega_0 \\rightarrow 0\n",
    "$$"
   ]
  },
  {
   "cell_type": "markdown",
   "metadata": {},
   "source": [
    "# Hand's on with the sawtooth wave\n",
    "\n",
    "Consider a sawtooth wave\n",
    "\n",
    "$$\n",
    "\\begin{align}\n",
    "s(x) &= {\\frac {x}{\\pi }},\\quad \\mathrm {for} -\\pi <x<\\pi ,\\\\\n",
    "s ( x + 2 π k ) &= s ( x ) ,\\quad \\mathrm{for} −\\pi < x < \\pi \n",
    "\\end{align}\n",
    "$$\n",
    "\n",
    "In this case, the Fourier coefficients are given by\n",
    "\n",
    "$$\n",
    "\\begin{align}\n",
    "a_{m}&{}={\\frac {1}{\\pi }}\\int _{-\\pi }^{\\pi }s(x)\\cos(mx)\\,dx=0,\\quad n\\geq 0.\\\\\n",
    "b_{m}&{}={\\frac {1}{\\pi }}\\int _{-\\pi }^{\\pi }s(x)\\sin(mx)\\,dx\\\\\n",
    "&=-{\\frac {2}{\\pi m}}\\cos(m\\pi )+{\\frac {2}{\\pi ^{2}m^{2}}}\\sin(m\\pi )\\\\\n",
    "&={\\frac {2\\,(-1)^{m+1}}{\\pi m}},\\quad m\\geq 1.\n",
    "\\end{align}\n",
    "$$\n",
    "\n",
    "It can be proven that Fourier series converges to $s(x)$ at every point $x$ where $s$ is differentiable, and therefore:\n",
    "\n",
    "$$\n",
    "\\begin{align}\n",
    "s(x)&={\\frac {a_{0}}{2}}+\\sum _{m=1}^{\\infty }\\left[a_{m}\\cos \\left(mx\\right)+b_{n}\\sin \\left(mx\\right)\\right]\\\\\n",
    "&={\\frac {2}{\\pi }}\\sum _{m=1}^{\\infty }{\\frac {(-1)^{m+1}}{m}}\\sin(mx),\\quad \\mathrm {for} \\quad x-\\pi \\notin 2\\pi \\mathbf {Z} \n",
    "\\end{align}\n",
    "$$\n",
    "\n",
    "When $x = \\pi$, the Fourier series converges to 0, which is the half-sum of the left- and right-limit of $s$ at $x = \\pi$. \n",
    "\n",
    "This is a particular instance of the Dirichlet theorem for Fourier series. "
   ]
  },
  {
   "cell_type": "code",
   "execution_count": null,
   "metadata": {},
   "outputs": [],
   "source": [
    "m_initial = 2                                 \n",
    "T_period  = 2."
   ]
  },
  {
   "cell_type": "code",
   "execution_count": null,
   "metadata": {},
   "outputs": [],
   "source": [
    "def Fourier(M,T,t):                          # M = number waves, T = period, t = time\n",
    "    sumy  = 0                                # initialize the output                 \n",
    "    omega = 2.*np.pi/T                       # Omega = 2pi/T\n",
    "    sign  = 1                                # Sign of the coefficient                                     \n",
    "    for m in range(1,M):                     # M variable selected with slider\n",
    "        sumy += (sign/m) * np.sin(m*omega*t) # value of the function after adding next term                     \n",
    "        sign = -sign                         # swap the sign of the coefficient    \n",
    "    sumy = (2.0/np.pi)*sumy                  # Common factor in front of the sum\n",
    "    return sumy"
   ]
  },
  {
   "cell_type": "code",
   "execution_count": null,
   "metadata": {},
   "outputs": [],
   "source": [
    "fig, ax = plt.subplots()\n",
    "t  = np.arange(0, np.pi, 0.01)               \n",
    "t1 = np.arange(0,T_period/2,0.01)               \n",
    "t2 = t[100:300]                               \n",
    "f1 = t1                                 \n",
    "f2 = t2-T_period                                  \n",
    "s  = 0 \n",
    "plt.plot(t1,f1)                                 \n",
    "plt.plot(t2,f2,color='b')    \n",
    "\n",
    "\n",
    "plt.axis([0, np.pi, -4.0, 4.0])             # minx, maxx, miny, maxy\n",
    "plt.xlabel('Time')                                        \n",
    "plt.ylabel('Signal')                                      \n",
    "plt.title('Fourier Synthesis of Sawtooth function')\n",
    "plt.grid(True) \n",
    "\n",
    "s = Fourier(3, T_period,t)   \n",
    "fig.gca()\n",
    "lines, = plt.plot(t, s, lw=1, color='red')\n",
    "plt.axis([0, np.pi, -4.0, 4.0])\n"
   ]
  },
  {
   "cell_type": "code",
   "execution_count": null,
   "metadata": {},
   "outputs": [],
   "source": [
    "s = Fourier(m_initial, T_period,t)   \n",
    "fig.gca()\n",
    "lines, = plt.plot(t, s, lw=1, color='red')\n",
    "plt.axis([0, np.pi, -4.0, 4.0])"
   ]
  },
  {
   "cell_type": "markdown",
   "metadata": {},
   "source": [
    "---\n",
    "# DISCUSSION\n",
    "\n",
    "1. How can you get the sawtooth out of this?\n",
    "1. Could we improve the edge behavior?\n",
    "1. Overlay the sawtooth with the sinusoid and see what happens!\n",
    "\n",
    "---"
   ]
  }
 ],
 "metadata": {
  "kernelspec": {
   "display_name": "Python 3",
   "language": "python",
   "name": "python3"
  },
  "language_info": {
   "codemirror_mode": {
    "name": "ipython",
    "version": 3
   },
   "file_extension": ".py",
   "mimetype": "text/x-python",
   "name": "python",
   "nbconvert_exporter": "python",
   "pygments_lexer": "ipython3",
   "version": "3.12.6"
  }
 },
 "nbformat": 4,
 "nbformat_minor": 4
}
