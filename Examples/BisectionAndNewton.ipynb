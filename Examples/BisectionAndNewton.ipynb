{
 "cells": [
  {
   "cell_type": "markdown",
   "metadata": {},
   "source": [
    "# Bisection and Newton's Method"
   ]
  },
  {
   "cell_type": "markdown",
   "metadata": {},
   "source": [
    "## Bisection method\n",
    "\n",
    "The main idea behind this algorithms is to find the root of a given number N.\n",
    "\n",
    "For a moment think how does your calculator or the command: np.sqrt() compute the root of a number. \n",
    "\n",
    "Suppose $f$ is a continuous function defined on the interval $[a,b]$, with $f(a)$ and $f(b)$ of opposite sign. We know that there exists a number $p$ in $(a,b)$ with $f(p)=0$. \n",
    "\n",
    "To find such $p$, set $a_1=a$ and $b_1=b$, and let $p_1$ be the midpoint in between a and b: \n",
    "\n",
    "$$p_1=\\dfrac{(a_1+b_1)}{2}$$\n",
    "\n",
    "1) If $f(p_1)=0$, then $p=p_1$, we are done;\n",
    "\n",
    "2) If $f(p_1)$  and  $f(a_1)$ have the same sign, $p \\in (p_1,b_1)$, and we set $a_2=p_1$ and $b_2=b_1$;\n",
    "\n",
    "3) Similarly, If $f(p_1)$  and  $f(a_1)$ have opposite signs, $p \\in (p_1,b_1)$, and we set $a_2=a_1$ and $b_2=p_1$;\n",
    "\n",
    "4) Iterate the process above in the following intervals: $[a_2, b_2]$, $[a_3, b_3]$...$[a_i, b_i]$;\n",
    "\n",
    "5) Set the error tolerance, the loop will be terminate if $$\\dfrac{(a_i+b_i)}{2}< tolerance.$$"
   ]
  },
  {
   "cell_type": "code",
   "execution_count": 1,
   "metadata": {
    "collapsed": true
   },
   "outputs": [],
   "source": [
    "def bisection(a, b, tol, max_it):\n",
    "    i = 1\n",
    "    fa = f(a)\n",
    "    while i <= max_it:\n",
    "        p = (a + b) / 2.0\n",
    "        fp = f(p)\n",
    "        if fp == 0 or (b - a) < tol:\n",
    "            p_out = p\n",
    "            return(p)\n",
    "        i += 1\n",
    "        if fa * fp > 0:\n",
    "            a = p\n",
    "            fa = fp\n",
    "        else:\n",
    "            b = p\n",
    "    print('max num iteration exceeded')\n",
    "    return(-999)"
   ]
  },
  {
   "cell_type": "code",
   "execution_count": 8,
   "metadata": {
    "collapsed": true
   },
   "outputs": [],
   "source": [
    "def f(x):\n",
    "    y = x ** 3 + 4 * x ** 2 - 10\n",
    "    #y = x ** 2 - 2\n",
    "    return(y)"
   ]
  },
  {
   "cell_type": "code",
   "execution_count": 9,
   "metadata": {
    "collapsed": false
   },
   "outputs": [
    {
     "name": "stdout",
     "output_type": "stream",
     "text": [
      "1.36522999406\n",
      "-3.19624891887e-07\n"
     ]
    }
   ],
   "source": [
    "a = 1\n",
    "b = 2\n",
    "p = bisection(a, b, 0.0000001, 10000)\n",
    "print(p)\n",
    "\n",
    "print(f(p))"
   ]
  },
  {
   "cell_type": "markdown",
   "metadata": {},
   "source": [
    "## Newton's Method\n",
    "\n",
    "Newton's method is an iterative process for finding the roots of a function.\n",
    "\n",
    "The concept is to\n",
    "\n",
    "- guess a starting $x$ point $(x_1)$\n",
    "- find a linear equation that's tangent to and passes through $f(x_1)$\n",
    "- move to the x intercept\n",
    "- repeat"
   ]
  },
  {
   "cell_type": "markdown",
   "metadata": {},
   "source": [
    "\n",
    "### Newton's Method in action\n",
    "\n",
    "Let's use the <i>point-slope</i> form of a linear equation\n",
    "\n",
    "$$\n",
    "y - y_1 = m(x - x_1)\n",
    "$$\n",
    "\n",
    "We have a point $x_1$ and $f(x_1)=y_1$\n",
    "\n",
    "and a slope $m= f'(x_1)$\n",
    "\n",
    "so let's plug in and find the $x$ intercept\n",
    "\n",
    "$$\n",
    "y - f(x_1) = f'(x_1)(x - x_1)\n",
    "$$\n",
    "\n",
    "Set $y=0$ and solve for $x_2$\n",
    "\n",
    "$$\n",
    " - f(x_1) = f'(x_1)(x_2 - x_1)\n",
    "$$\n",
    "\n",
    "$$\n",
    "-\\frac{f(x_1)}{f'(x_1)} = x_2 - x_1\n",
    "$$\n",
    "\n",
    "$$\n",
    "x_2 = x_1 - \\frac{f(x_1)}{f'(x_1)}\n",
    "$$\n",
    "\n",
    "or in general terms\n",
    "\n",
    "$$\n",
    "x_{n+1} = x_n - \\frac{f(x_n)}{f'(x_n)}\n",
    "$$"
   ]
  },
  {
   "cell_type": "code",
   "execution_count": 19,
   "metadata": {
    "collapsed": false
   },
   "outputs": [],
   "source": [
    "import numpy as np\n",
    "from scipy.misc import derivative\n",
    "import matplotlib.pyplot as plt\n",
    "%matplotlib inline\n",
    "\n",
    "x = np.linspace(0.2, 2.2, 500)\n",
    "\n",
    "def f(x):\n",
    "    return np.log(x)\n",
    "\n",
    "def f_line(f, x, x_n):\n",
    "    slope = derivative(f, x_n, dx=0.1)\n",
    "    x_nn = x_n - f(x_n) / slope \n",
    "    return slope * (x - x_n) + f(x_n), x_nn\n",
    "\n",
    "def update_plot(order):\n",
    "    x_n = 2\n",
    "    ax.clear()\n",
    "    ax.plot(x, f(x), label=r'$\\ln(x)$')\n",
    "    ax.axhline(0, color='gray', lw=0.5)\n",
    "\n",
    "    for i in range(0, order):\n",
    "\n",
    "        if i >= 1:\n",
    "            ax.plot(x, f_l, '--', lw=1)\n",
    "        \n",
    "        ax.plot(x_n, f(x_n), 'kd', label=r'$f(x_{}={:.2f})={:.3f}$'.format(i + 1, x_n, f(x_n)))\n",
    "        ax.vlines(x_n, 0, f(x_n), color='black', linestyle=':', lw=1)\n",
    "        f_l, x_n = f_line(f, x, x_n)\n",
    "\n",
    "        \n",
    "    plt.setp(ax, xticks=[0, 1, 2], xticklabels=['0', '1', '2'],\n",
    "             yticks=[-1, 0, 1], yticklabels=['-1', '0', '-1'])\n",
    "    ax.set_ylim(-1, 1)\n",
    "    ax.set_xlim(0, 2.2)\n",
    "    ax.legend(loc=4)\n",
    "    plt.show()"
   ]
  },
  {
   "cell_type": "code",
   "execution_count": 20,
   "metadata": {
    "collapsed": false
   },
   "outputs": [],
   "source": [
    "update_plot(3)"
   ]
  },
  {
   "cell_type": "code",
   "execution_count": null,
   "metadata": {
    "collapsed": true
   },
   "outputs": [],
   "source": []
  }
 ],
 "metadata": {
  "kernelspec": {
   "display_name": "Python 2",
   "language": "python",
   "name": "python2"
  },
  "language_info": {
   "codemirror_mode": {
    "name": "ipython",
    "version": 2
   },
   "file_extension": ".py",
   "mimetype": "text/x-python",
   "name": "python",
   "nbconvert_exporter": "python",
   "pygments_lexer": "ipython2",
   "version": "2.7.9"
  }
 },
 "nbformat": 4,
 "nbformat_minor": 2
}
